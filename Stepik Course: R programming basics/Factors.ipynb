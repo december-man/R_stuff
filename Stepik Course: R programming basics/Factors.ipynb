{
 "cells": [
  {
   "cell_type": "markdown",
   "id": "a10a0229-7453-463f-b1f7-e3c315fb5847",
   "metadata": {},
   "source": [
    "***Factors in R:***\n",
    "\n",
    "- For nominal data\n",
    "- Hybrid of _int_ and _chr_ vector\n"
   ]
  },
  {
   "cell_type": "code",
   "execution_count": 78,
   "id": "b1d6ca41-4c84-4eed-ae29-ddb8c2988676",
   "metadata": {},
   "outputs": [],
   "source": [
    "set.seed(1337)\n",
    "f <- factor(sample(LETTERS, 30, replace = TRUE))"
   ]
  },
  {
   "cell_type": "code",
   "execution_count": 79,
   "id": "f45de44c-7610-4fa2-ac22-d245e0fef1f2",
   "metadata": {},
   "outputs": [
    {
     "name": "stdout",
     "output_type": "stream",
     "text": [
      " Factor w/ 17 levels \"C\",\"D\",\"E\",\"G\",..: 7 14 13 12 11 13 16 16 14 2 ...\n"
     ]
    },
    {
     "data": {
      "text/html": [
       "<style>\n",
       ".dl-inline {width: auto; margin:0; padding: 0}\n",
       ".dl-inline>dt, .dl-inline>dd {float: none; width: auto; display: inline-block}\n",
       ".dl-inline>dt::after {content: \":\\0020\"; padding-right: .5ex}\n",
       ".dl-inline>dt:not(:first-of-type) {padding-left: .5ex}\n",
       "</style><dl class=dl-inline><dt>C</dt><dd>1</dd><dt>D</dt><dd>2</dd><dt>E</dt><dd>2</dd><dt>G</dt><dd>1</dd><dt>H</dt><dd>1</dd><dt>I</dt><dd>2</dd><dt>J</dt><dd>1</dd><dt>L</dt><dd>1</dd><dt>N</dt><dd>2</dd><dt>O</dt><dd>1</dd><dt>P</dt><dd>2</dd><dt>Q</dt><dd>1</dd><dt>R</dt><dd>3</dd><dt>S</dt><dd>3</dd><dt>V</dt><dd>2</dd><dt>X</dt><dd>3</dd><dt>Y</dt><dd>2</dd></dl>\n"
      ],
      "text/latex": [
       "\\begin{description*}\n",
       "\\item[C] 1\n",
       "\\item[D] 2\n",
       "\\item[E] 2\n",
       "\\item[G] 1\n",
       "\\item[H] 1\n",
       "\\item[I] 2\n",
       "\\item[J] 1\n",
       "\\item[L] 1\n",
       "\\item[N] 2\n",
       "\\item[O] 1\n",
       "\\item[P] 2\n",
       "\\item[Q] 1\n",
       "\\item[R] 3\n",
       "\\item[S] 3\n",
       "\\item[V] 2\n",
       "\\item[X] 3\n",
       "\\item[Y] 2\n",
       "\\end{description*}\n"
      ],
      "text/markdown": [
       "C\n",
       ":   1D\n",
       ":   2E\n",
       ":   2G\n",
       ":   1H\n",
       ":   1I\n",
       ":   2J\n",
       ":   1L\n",
       ":   1N\n",
       ":   2O\n",
       ":   1P\n",
       ":   2Q\n",
       ":   1R\n",
       ":   3S\n",
       ":   3V\n",
       ":   2X\n",
       ":   3Y\n",
       ":   2\n",
       "\n"
      ],
      "text/plain": [
       "C D E G H I J L N O P Q R S V X Y \n",
       "1 2 2 1 1 2 1 1 2 1 2 1 3 3 2 3 2 "
      ]
     },
     "metadata": {},
     "output_type": "display_data"
    },
    {
     "data": {
      "text/html": [
       "<style>\n",
       ".list-inline {list-style: none; margin:0; padding: 0}\n",
       ".list-inline>li {display: inline-block}\n",
       ".list-inline>li:not(:last-child)::after {content: \"\\00b7\"; padding: 0 .5ex}\n",
       "</style>\n",
       "<ol class=list-inline><li>J</li><li>S</li><li>R</li><li>Q</li><li>P</li><li>R</li><li>X</li><li>X</li><li>S</li><li>D</li><li>E</li><li>N</li><li>I</li><li>Y</li><li>V</li><li>O</li><li>R</li><li>C</li><li>P</li><li>X</li><li>G</li><li>I</li><li>L</li><li>E</li><li>Y</li><li>V</li><li>D</li><li>N</li><li>H</li><li>S</li></ol>\n",
       "\n",
       "<details>\n",
       "\t<summary style=display:list-item;cursor:pointer>\n",
       "\t\t<strong>Levels</strong>:\n",
       "\t</summary>\n",
       "\t<style>\n",
       "\t.list-inline {list-style: none; margin:0; padding: 0}\n",
       "\t.list-inline>li {display: inline-block}\n",
       "\t.list-inline>li:not(:last-child)::after {content: \"\\00b7\"; padding: 0 .5ex}\n",
       "\t</style>\n",
       "\t<ol class=list-inline><li>'C'</li><li>'D'</li><li>'E'</li><li>'G'</li><li>'H'</li><li>'I'</li><li>'J'</li><li>'L'</li><li>'N'</li><li>'O'</li><li>'P'</li><li>'Q'</li><li>'R'</li><li>'S'</li><li>'V'</li><li>'X'</li><li>'Y'</li></ol>\n",
       "</details>"
      ],
      "text/latex": [
       "\\begin{enumerate*}\n",
       "\\item J\n",
       "\\item S\n",
       "\\item R\n",
       "\\item Q\n",
       "\\item P\n",
       "\\item R\n",
       "\\item X\n",
       "\\item X\n",
       "\\item S\n",
       "\\item D\n",
       "\\item E\n",
       "\\item N\n",
       "\\item I\n",
       "\\item Y\n",
       "\\item V\n",
       "\\item O\n",
       "\\item R\n",
       "\\item C\n",
       "\\item P\n",
       "\\item X\n",
       "\\item G\n",
       "\\item I\n",
       "\\item L\n",
       "\\item E\n",
       "\\item Y\n",
       "\\item V\n",
       "\\item D\n",
       "\\item N\n",
       "\\item H\n",
       "\\item S\n",
       "\\end{enumerate*}\n",
       "\n",
       "\\emph{Levels}: \\begin{enumerate*}\n",
       "\\item 'C'\n",
       "\\item 'D'\n",
       "\\item 'E'\n",
       "\\item 'G'\n",
       "\\item 'H'\n",
       "\\item 'I'\n",
       "\\item 'J'\n",
       "\\item 'L'\n",
       "\\item 'N'\n",
       "\\item 'O'\n",
       "\\item 'P'\n",
       "\\item 'Q'\n",
       "\\item 'R'\n",
       "\\item 'S'\n",
       "\\item 'V'\n",
       "\\item 'X'\n",
       "\\item 'Y'\n",
       "\\end{enumerate*}\n"
      ],
      "text/markdown": [
       "1. J\n",
       "2. S\n",
       "3. R\n",
       "4. Q\n",
       "5. P\n",
       "6. R\n",
       "7. X\n",
       "8. X\n",
       "9. S\n",
       "10. D\n",
       "11. E\n",
       "12. N\n",
       "13. I\n",
       "14. Y\n",
       "15. V\n",
       "16. O\n",
       "17. R\n",
       "18. C\n",
       "19. P\n",
       "20. X\n",
       "21. G\n",
       "22. I\n",
       "23. L\n",
       "24. E\n",
       "25. Y\n",
       "26. V\n",
       "27. D\n",
       "28. N\n",
       "29. H\n",
       "30. S\n",
       "\n",
       "\n",
       "\n",
       "**Levels**: 1. 'C'\n",
       "2. 'D'\n",
       "3. 'E'\n",
       "4. 'G'\n",
       "5. 'H'\n",
       "6. 'I'\n",
       "7. 'J'\n",
       "8. 'L'\n",
       "9. 'N'\n",
       "10. 'O'\n",
       "11. 'P'\n",
       "12. 'Q'\n",
       "13. 'R'\n",
       "14. 'S'\n",
       "15. 'V'\n",
       "16. 'X'\n",
       "17. 'Y'\n",
       "\n",
       "\n"
      ],
      "text/plain": [
       " [1] J S R Q P R X X S D E N I Y V O R C P X G I L E Y V D N H S\n",
       "Levels: C D E G H I J L N O P Q R S V X Y"
      ]
     },
     "metadata": {},
     "output_type": "display_data"
    }
   ],
   "source": [
    "str(f)\n",
    "summary(f)\n",
    "f"
   ]
  },
  {
   "cell_type": "code",
   "execution_count": 80,
   "id": "217fc447-5248-41f1-b1a5-a7e2caec147a",
   "metadata": {},
   "outputs": [
    {
     "data": {
      "text/html": [
       "<style>\n",
       ".list-inline {list-style: none; margin:0; padding: 0}\n",
       ".list-inline>li {display: inline-block}\n",
       ".list-inline>li:not(:last-child)::after {content: \"\\00b7\"; padding: 0 .5ex}\n",
       "</style>\n",
       "<ol class=list-inline><li>7</li><li>14</li><li>13</li><li>12</li><li>11</li><li>13</li><li>16</li><li>16</li><li>14</li><li>2</li><li>3</li><li>9</li><li>6</li><li>17</li><li>15</li><li>10</li><li>13</li><li>1</li><li>11</li><li>16</li><li>4</li><li>6</li><li>8</li><li>3</li><li>17</li><li>15</li><li>2</li><li>9</li><li>5</li><li>14</li></ol>\n"
      ],
      "text/latex": [
       "\\begin{enumerate*}\n",
       "\\item 7\n",
       "\\item 14\n",
       "\\item 13\n",
       "\\item 12\n",
       "\\item 11\n",
       "\\item 13\n",
       "\\item 16\n",
       "\\item 16\n",
       "\\item 14\n",
       "\\item 2\n",
       "\\item 3\n",
       "\\item 9\n",
       "\\item 6\n",
       "\\item 17\n",
       "\\item 15\n",
       "\\item 10\n",
       "\\item 13\n",
       "\\item 1\n",
       "\\item 11\n",
       "\\item 16\n",
       "\\item 4\n",
       "\\item 6\n",
       "\\item 8\n",
       "\\item 3\n",
       "\\item 17\n",
       "\\item 15\n",
       "\\item 2\n",
       "\\item 9\n",
       "\\item 5\n",
       "\\item 14\n",
       "\\end{enumerate*}\n"
      ],
      "text/markdown": [
       "1. 7\n",
       "2. 14\n",
       "3. 13\n",
       "4. 12\n",
       "5. 11\n",
       "6. 13\n",
       "7. 16\n",
       "8. 16\n",
       "9. 14\n",
       "10. 2\n",
       "11. 3\n",
       "12. 9\n",
       "13. 6\n",
       "14. 17\n",
       "15. 15\n",
       "16. 10\n",
       "17. 13\n",
       "18. 1\n",
       "19. 11\n",
       "20. 16\n",
       "21. 4\n",
       "22. 6\n",
       "23. 8\n",
       "24. 3\n",
       "25. 17\n",
       "26. 15\n",
       "27. 2\n",
       "28. 9\n",
       "29. 5\n",
       "30. 14\n",
       "\n",
       "\n"
      ],
      "text/plain": [
       " [1]  7 14 13 12 11 13 16 16 14  2  3  9  6 17 15 10 13  1 11 16  4  6  8  3 17\n",
       "[26] 15  2  9  5 14"
      ]
     },
     "metadata": {},
     "output_type": "display_data"
    }
   ],
   "source": [
    "as.numeric(f)"
   ]
  },
  {
   "cell_type": "code",
   "execution_count": 81,
   "id": "1e45d21e-8589-41e7-ba6d-2b98cfef93b5",
   "metadata": {},
   "outputs": [
    {
     "data": {
      "text/html": [
       "<style>\n",
       ".list-inline {list-style: none; margin:0; padding: 0}\n",
       ".list-inline>li {display: inline-block}\n",
       ".list-inline>li:not(:last-child)::after {content: \"\\00b7\"; padding: 0 .5ex}\n",
       "</style>\n",
       "<ol class=list-inline><li>'J'</li><li>'S'</li><li>'R'</li><li>'Q'</li><li>'P'</li><li>'R'</li><li>'X'</li><li>'X'</li><li>'S'</li><li>'D'</li><li>'E'</li><li>'N'</li><li>'I'</li><li>'Y'</li><li>'V'</li><li>'O'</li><li>'R'</li><li>'C'</li><li>'P'</li><li>'X'</li><li>'G'</li><li>'I'</li><li>'L'</li><li>'E'</li><li>'Y'</li><li>'V'</li><li>'D'</li><li>'N'</li><li>'H'</li><li>'S'</li></ol>\n"
      ],
      "text/latex": [
       "\\begin{enumerate*}\n",
       "\\item 'J'\n",
       "\\item 'S'\n",
       "\\item 'R'\n",
       "\\item 'Q'\n",
       "\\item 'P'\n",
       "\\item 'R'\n",
       "\\item 'X'\n",
       "\\item 'X'\n",
       "\\item 'S'\n",
       "\\item 'D'\n",
       "\\item 'E'\n",
       "\\item 'N'\n",
       "\\item 'I'\n",
       "\\item 'Y'\n",
       "\\item 'V'\n",
       "\\item 'O'\n",
       "\\item 'R'\n",
       "\\item 'C'\n",
       "\\item 'P'\n",
       "\\item 'X'\n",
       "\\item 'G'\n",
       "\\item 'I'\n",
       "\\item 'L'\n",
       "\\item 'E'\n",
       "\\item 'Y'\n",
       "\\item 'V'\n",
       "\\item 'D'\n",
       "\\item 'N'\n",
       "\\item 'H'\n",
       "\\item 'S'\n",
       "\\end{enumerate*}\n"
      ],
      "text/markdown": [
       "1. 'J'\n",
       "2. 'S'\n",
       "3. 'R'\n",
       "4. 'Q'\n",
       "5. 'P'\n",
       "6. 'R'\n",
       "7. 'X'\n",
       "8. 'X'\n",
       "9. 'S'\n",
       "10. 'D'\n",
       "11. 'E'\n",
       "12. 'N'\n",
       "13. 'I'\n",
       "14. 'Y'\n",
       "15. 'V'\n",
       "16. 'O'\n",
       "17. 'R'\n",
       "18. 'C'\n",
       "19. 'P'\n",
       "20. 'X'\n",
       "21. 'G'\n",
       "22. 'I'\n",
       "23. 'L'\n",
       "24. 'E'\n",
       "25. 'Y'\n",
       "26. 'V'\n",
       "27. 'D'\n",
       "28. 'N'\n",
       "29. 'H'\n",
       "30. 'S'\n",
       "\n",
       "\n"
      ],
      "text/plain": [
       " [1] \"J\" \"S\" \"R\" \"Q\" \"P\" \"R\" \"X\" \"X\" \"S\" \"D\" \"E\" \"N\" \"I\" \"Y\" \"V\" \"O\" \"R\" \"C\" \"P\"\n",
       "[20] \"X\" \"G\" \"I\" \"L\" \"E\" \"Y\" \"V\" \"D\" \"N\" \"H\" \"S\""
      ]
     },
     "metadata": {},
     "output_type": "display_data"
    }
   ],
   "source": [
    "as.character(f)"
   ]
  },
  {
   "cell_type": "code",
   "execution_count": 82,
   "id": "d22f2e69-4a8d-410d-8b2c-d7d0ab9c0e88",
   "metadata": {},
   "outputs": [
    {
     "data": {
      "text/html": [
       "<style>\n",
       ".list-inline {list-style: none; margin:0; padding: 0}\n",
       ".list-inline>li {display: inline-block}\n",
       ".list-inline>li:not(:last-child)::after {content: \"\\00b7\"; padding: 0 .5ex}\n",
       "</style>\n",
       "<ol class=list-inline><li>'C'</li><li>'D'</li><li>'E'</li><li>'G'</li><li>'H'</li><li>'I'</li><li>'J'</li><li>'L'</li><li>'N'</li><li>'O'</li><li>'P'</li><li>'Q'</li><li>'R'</li><li>'S'</li><li>'V'</li><li>'X'</li><li>'Y'</li></ol>\n"
      ],
      "text/latex": [
       "\\begin{enumerate*}\n",
       "\\item 'C'\n",
       "\\item 'D'\n",
       "\\item 'E'\n",
       "\\item 'G'\n",
       "\\item 'H'\n",
       "\\item 'I'\n",
       "\\item 'J'\n",
       "\\item 'L'\n",
       "\\item 'N'\n",
       "\\item 'O'\n",
       "\\item 'P'\n",
       "\\item 'Q'\n",
       "\\item 'R'\n",
       "\\item 'S'\n",
       "\\item 'V'\n",
       "\\item 'X'\n",
       "\\item 'Y'\n",
       "\\end{enumerate*}\n"
      ],
      "text/markdown": [
       "1. 'C'\n",
       "2. 'D'\n",
       "3. 'E'\n",
       "4. 'G'\n",
       "5. 'H'\n",
       "6. 'I'\n",
       "7. 'J'\n",
       "8. 'L'\n",
       "9. 'N'\n",
       "10. 'O'\n",
       "11. 'P'\n",
       "12. 'Q'\n",
       "13. 'R'\n",
       "14. 'S'\n",
       "15. 'V'\n",
       "16. 'X'\n",
       "17. 'Y'\n",
       "\n",
       "\n"
      ],
      "text/plain": [
       " [1] \"C\" \"D\" \"E\" \"G\" \"H\" \"I\" \"J\" \"L\" \"N\" \"O\" \"P\" \"Q\" \"R\" \"S\" \"V\" \"X\" \"Y\""
      ]
     },
     "metadata": {},
     "output_type": "display_data"
    }
   ],
   "source": [
    "levels(f)"
   ]
  },
  {
   "cell_type": "code",
   "execution_count": 83,
   "id": "73685e1e-05b1-45c7-bcbf-b1a4f0b29192",
   "metadata": {},
   "outputs": [
    {
     "data": {
      "text/html": [
       "TRUE"
      ],
      "text/latex": [
       "TRUE"
      ],
      "text/markdown": [
       "TRUE"
      ],
      "text/plain": [
       "[1] TRUE"
      ]
     },
     "metadata": {},
     "output_type": "display_data"
    }
   ],
   "source": [
    "nlevels(f) == length(levels(f))"
   ]
  },
  {
   "cell_type": "code",
   "execution_count": 84,
   "id": "7d599df2-bcd5-42a9-96be-25800d04d045",
   "metadata": {},
   "outputs": [
    {
     "data": {
      "text/html": [
       "<style>\n",
       ".list-inline {list-style: none; margin:0; padding: 0}\n",
       ".list-inline>li {display: inline-block}\n",
       ".list-inline>li:not(:last-child)::after {content: \"\\00b7\"; padding: 0 .5ex}\n",
       "</style>\n",
       "<ol class=list-inline><li>J</li><li>S</li><li>R</li><li>Q</li><li>P</li><li>R</li><li>X</li><li>X</li><li>S</li><li>D</li><li>E</li><li>N</li><li>I</li><li>Y</li><li>V</li><li>O</li><li>R</li><li>X</li><li>P</li><li>X</li><li>G</li><li>I</li><li>L</li><li>E</li><li>Y</li><li>V</li><li>D</li><li>N</li><li>H</li><li>S</li></ol>\n",
       "\n",
       "<details>\n",
       "\t<summary style=display:list-item;cursor:pointer>\n",
       "\t\t<strong>Levels</strong>:\n",
       "\t</summary>\n",
       "\t<style>\n",
       "\t.list-inline {list-style: none; margin:0; padding: 0}\n",
       "\t.list-inline>li {display: inline-block}\n",
       "\t.list-inline>li:not(:last-child)::after {content: \"\\00b7\"; padding: 0 .5ex}\n",
       "\t</style>\n",
       "\t<ol class=list-inline><li>'C'</li><li>'D'</li><li>'E'</li><li>'G'</li><li>'H'</li><li>'I'</li><li>'J'</li><li>'L'</li><li>'N'</li><li>'O'</li><li>'P'</li><li>'Q'</li><li>'R'</li><li>'S'</li><li>'V'</li><li>'X'</li><li>'Y'</li></ol>\n",
       "</details>"
      ],
      "text/latex": [
       "\\begin{enumerate*}\n",
       "\\item J\n",
       "\\item S\n",
       "\\item R\n",
       "\\item Q\n",
       "\\item P\n",
       "\\item R\n",
       "\\item X\n",
       "\\item X\n",
       "\\item S\n",
       "\\item D\n",
       "\\item E\n",
       "\\item N\n",
       "\\item I\n",
       "\\item Y\n",
       "\\item V\n",
       "\\item O\n",
       "\\item R\n",
       "\\item X\n",
       "\\item P\n",
       "\\item X\n",
       "\\item G\n",
       "\\item I\n",
       "\\item L\n",
       "\\item E\n",
       "\\item Y\n",
       "\\item V\n",
       "\\item D\n",
       "\\item N\n",
       "\\item H\n",
       "\\item S\n",
       "\\end{enumerate*}\n",
       "\n",
       "\\emph{Levels}: \\begin{enumerate*}\n",
       "\\item 'C'\n",
       "\\item 'D'\n",
       "\\item 'E'\n",
       "\\item 'G'\n",
       "\\item 'H'\n",
       "\\item 'I'\n",
       "\\item 'J'\n",
       "\\item 'L'\n",
       "\\item 'N'\n",
       "\\item 'O'\n",
       "\\item 'P'\n",
       "\\item 'Q'\n",
       "\\item 'R'\n",
       "\\item 'S'\n",
       "\\item 'V'\n",
       "\\item 'X'\n",
       "\\item 'Y'\n",
       "\\end{enumerate*}\n"
      ],
      "text/markdown": [
       "1. J\n",
       "2. S\n",
       "3. R\n",
       "4. Q\n",
       "5. P\n",
       "6. R\n",
       "7. X\n",
       "8. X\n",
       "9. S\n",
       "10. D\n",
       "11. E\n",
       "12. N\n",
       "13. I\n",
       "14. Y\n",
       "15. V\n",
       "16. O\n",
       "17. R\n",
       "18. X\n",
       "19. P\n",
       "20. X\n",
       "21. G\n",
       "22. I\n",
       "23. L\n",
       "24. E\n",
       "25. Y\n",
       "26. V\n",
       "27. D\n",
       "28. N\n",
       "29. H\n",
       "30. S\n",
       "\n",
       "\n",
       "\n",
       "**Levels**: 1. 'C'\n",
       "2. 'D'\n",
       "3. 'E'\n",
       "4. 'G'\n",
       "5. 'H'\n",
       "6. 'I'\n",
       "7. 'J'\n",
       "8. 'L'\n",
       "9. 'N'\n",
       "10. 'O'\n",
       "11. 'P'\n",
       "12. 'Q'\n",
       "13. 'R'\n",
       "14. 'S'\n",
       "15. 'V'\n",
       "16. 'X'\n",
       "17. 'Y'\n",
       "\n",
       "\n"
      ],
      "text/plain": [
       " [1] J S R Q P R X X S D E N I Y V O R X P X G I L E Y V D N H S\n",
       "Levels: C D E G H I J L N O P Q R S V X Y"
      ]
     },
     "metadata": {},
     "output_type": "display_data"
    }
   ],
   "source": [
    "f[f == \"C\"] <- \"X\"\n",
    "f"
   ]
  },
  {
   "cell_type": "code",
   "execution_count": 85,
   "id": "b628d955-7e46-4fec-9849-9ec339314cdb",
   "metadata": {},
   "outputs": [
    {
     "data": {
      "text/html": [
       "<style>\n",
       ".list-inline {list-style: none; margin:0; padding: 0}\n",
       ".list-inline>li {display: inline-block}\n",
       ".list-inline>li:not(:last-child)::after {content: \"\\00b7\"; padding: 0 .5ex}\n",
       "</style>\n",
       "<ol class=list-inline><li>J</li><li>S</li><li>R</li><li>Q</li><li>P</li><li>R</li><li>X</li><li>X</li><li>S</li><li>D</li><li>E</li><li>N</li><li>I</li><li>Y</li><li>V</li><li>O</li><li>R</li><li>X</li><li>P</li><li>X</li><li>G</li><li>I</li><li>L</li><li>E</li><li>Y</li><li>V</li><li>D</li><li>N</li><li>H</li><li>S</li></ol>\n",
       "\n",
       "<details>\n",
       "\t<summary style=display:list-item;cursor:pointer>\n",
       "\t\t<strong>Levels</strong>:\n",
       "\t</summary>\n",
       "\t<style>\n",
       "\t.list-inline {list-style: none; margin:0; padding: 0}\n",
       "\t.list-inline>li {display: inline-block}\n",
       "\t.list-inline>li:not(:last-child)::after {content: \"\\00b7\"; padding: 0 .5ex}\n",
       "\t</style>\n",
       "\t<ol class=list-inline><li>'D'</li><li>'E'</li><li>'G'</li><li>'H'</li><li>'I'</li><li>'J'</li><li>'L'</li><li>'N'</li><li>'O'</li><li>'P'</li><li>'Q'</li><li>'R'</li><li>'S'</li><li>'V'</li><li>'X'</li><li>'Y'</li></ol>\n",
       "</details>"
      ],
      "text/latex": [
       "\\begin{enumerate*}\n",
       "\\item J\n",
       "\\item S\n",
       "\\item R\n",
       "\\item Q\n",
       "\\item P\n",
       "\\item R\n",
       "\\item X\n",
       "\\item X\n",
       "\\item S\n",
       "\\item D\n",
       "\\item E\n",
       "\\item N\n",
       "\\item I\n",
       "\\item Y\n",
       "\\item V\n",
       "\\item O\n",
       "\\item R\n",
       "\\item X\n",
       "\\item P\n",
       "\\item X\n",
       "\\item G\n",
       "\\item I\n",
       "\\item L\n",
       "\\item E\n",
       "\\item Y\n",
       "\\item V\n",
       "\\item D\n",
       "\\item N\n",
       "\\item H\n",
       "\\item S\n",
       "\\end{enumerate*}\n",
       "\n",
       "\\emph{Levels}: \\begin{enumerate*}\n",
       "\\item 'D'\n",
       "\\item 'E'\n",
       "\\item 'G'\n",
       "\\item 'H'\n",
       "\\item 'I'\n",
       "\\item 'J'\n",
       "\\item 'L'\n",
       "\\item 'N'\n",
       "\\item 'O'\n",
       "\\item 'P'\n",
       "\\item 'Q'\n",
       "\\item 'R'\n",
       "\\item 'S'\n",
       "\\item 'V'\n",
       "\\item 'X'\n",
       "\\item 'Y'\n",
       "\\end{enumerate*}\n"
      ],
      "text/markdown": [
       "1. J\n",
       "2. S\n",
       "3. R\n",
       "4. Q\n",
       "5. P\n",
       "6. R\n",
       "7. X\n",
       "8. X\n",
       "9. S\n",
       "10. D\n",
       "11. E\n",
       "12. N\n",
       "13. I\n",
       "14. Y\n",
       "15. V\n",
       "16. O\n",
       "17. R\n",
       "18. X\n",
       "19. P\n",
       "20. X\n",
       "21. G\n",
       "22. I\n",
       "23. L\n",
       "24. E\n",
       "25. Y\n",
       "26. V\n",
       "27. D\n",
       "28. N\n",
       "29. H\n",
       "30. S\n",
       "\n",
       "\n",
       "\n",
       "**Levels**: 1. 'D'\n",
       "2. 'E'\n",
       "3. 'G'\n",
       "4. 'H'\n",
       "5. 'I'\n",
       "6. 'J'\n",
       "7. 'L'\n",
       "8. 'N'\n",
       "9. 'O'\n",
       "10. 'P'\n",
       "11. 'Q'\n",
       "12. 'R'\n",
       "13. 'S'\n",
       "14. 'V'\n",
       "15. 'X'\n",
       "16. 'Y'\n",
       "\n",
       "\n"
      ],
      "text/plain": [
       " [1] J S R Q P R X X S D E N I Y V O R X P X G I L E Y V D N H S\n",
       "Levels: D E G H I J L N O P Q R S V X Y"
      ]
     },
     "metadata": {},
     "output_type": "display_data"
    }
   ],
   "source": [
    "(f <- droplevels(f))"
   ]
  },
  {
   "cell_type": "code",
   "execution_count": 86,
   "id": "28a4d4fc-e4b0-491f-825d-c63d1a8ef32b",
   "metadata": {},
   "outputs": [
    {
     "data": {
      "text/html": [
       "<style>\n",
       ".list-inline {list-style: none; margin:0; padding: 0}\n",
       ".list-inline>li {display: inline-block}\n",
       ".list-inline>li:not(:last-child)::after {content: \"\\00b7\"; padding: 0 .5ex}\n",
       "</style>\n",
       "<ol class=list-inline><li>'d'</li><li>'e'</li><li>'g'</li><li>'h'</li><li>'i'</li><li>'j'</li><li>'l'</li><li>'n'</li><li>'o'</li><li>'p'</li><li>'q'</li><li>'r'</li><li>'s'</li><li>'v'</li><li>'x'</li><li>'y'</li></ol>\n"
      ],
      "text/latex": [
       "\\begin{enumerate*}\n",
       "\\item 'd'\n",
       "\\item 'e'\n",
       "\\item 'g'\n",
       "\\item 'h'\n",
       "\\item 'i'\n",
       "\\item 'j'\n",
       "\\item 'l'\n",
       "\\item 'n'\n",
       "\\item 'o'\n",
       "\\item 'p'\n",
       "\\item 'q'\n",
       "\\item 'r'\n",
       "\\item 's'\n",
       "\\item 'v'\n",
       "\\item 'x'\n",
       "\\item 'y'\n",
       "\\end{enumerate*}\n"
      ],
      "text/markdown": [
       "1. 'd'\n",
       "2. 'e'\n",
       "3. 'g'\n",
       "4. 'h'\n",
       "5. 'i'\n",
       "6. 'j'\n",
       "7. 'l'\n",
       "8. 'n'\n",
       "9. 'o'\n",
       "10. 'p'\n",
       "11. 'q'\n",
       "12. 'r'\n",
       "13. 's'\n",
       "14. 'v'\n",
       "15. 'x'\n",
       "16. 'y'\n",
       "\n",
       "\n"
      ],
      "text/plain": [
       " [1] \"d\" \"e\" \"g\" \"h\" \"i\" \"j\" \"l\" \"n\" \"o\" \"p\" \"q\" \"r\" \"s\" \"v\" \"x\" \"y\""
      ]
     },
     "metadata": {},
     "output_type": "display_data"
    }
   ],
   "source": [
    "(levels(f) <- tolower(levels(f)))"
   ]
  },
  {
   "cell_type": "markdown",
   "id": "b7cff44a-8976-4d78-8be9-02c8a68286ec",
   "metadata": {},
   "source": [
    "To improve understanding of factors, here's how the are formed:\n",
    "\n",
    "`levels <- sort(unique(x))`\n",
    "\n",
    "`f <- match(x, levels)`\n",
    "\n",
    "`levels(f) <- as.character(levels)`\n",
    "\n",
    "`class(f) <- \"factor\"`\n",
    "\n",
    "As one can see, levels are sorted unique values of variable __x__. The factor represents a position of a value in terms of levels.\n",
    "\n",
    "To merge factors and levels together:\n",
    "\n",
    "`levels(x)[1:2] <- levels(x)[1]`\n",
    "\n",
    "Here, first two levels are substituted by the first one\n",
    "\n",
    "In memory, factors are stored as integers: \n",
    "\n",
    "`(storage.mode(factor()) == \"integer\")`"
   ]
  },
  {
   "cell_type": "code",
   "execution_count": 87,
   "id": "9d47511d-1f5e-4d2a-adc4-336737b2943d",
   "metadata": {},
   "outputs": [
    {
     "data": {
      "text/html": [
       "<style>\n",
       ".list-inline {list-style: none; margin:0; padding: 0}\n",
       ".list-inline>li {display: inline-block}\n",
       ".list-inline>li:not(:last-child)::after {content: \"\\00b7\"; padding: 0 .5ex}\n",
       "</style>\n",
       "<ol class=list-inline><li>j</li><li>s</li><li>r</li><li>q</li><li>p</li><li>r</li><li>x</li><li>x</li><li>s</li><li>ababa</li><li>e</li><li>n</li><li>i</li><li>y</li><li>v</li><li>o</li><li>r</li><li>x</li><li>p</li><li>x</li><li>g</li><li>i</li><li>l</li><li>e</li><li>y</li><li>v</li><li>ababa</li><li>n</li><li>h</li><li>s</li></ol>\n",
       "\n",
       "<details>\n",
       "\t<summary style=display:list-item;cursor:pointer>\n",
       "\t\t<strong>Levels</strong>:\n",
       "\t</summary>\n",
       "\t<style>\n",
       "\t.list-inline {list-style: none; margin:0; padding: 0}\n",
       "\t.list-inline>li {display: inline-block}\n",
       "\t.list-inline>li:not(:last-child)::after {content: \"\\00b7\"; padding: 0 .5ex}\n",
       "\t</style>\n",
       "\t<ol class=list-inline><li>'ababa'</li><li>'e'</li><li>'g'</li><li>'h'</li><li>'i'</li><li>'j'</li><li>'l'</li><li>'n'</li><li>'o'</li><li>'p'</li><li>'q'</li><li>'r'</li><li>'s'</li><li>'v'</li><li>'x'</li><li>'y'</li></ol>\n",
       "</details>"
      ],
      "text/latex": [
       "\\begin{enumerate*}\n",
       "\\item j\n",
       "\\item s\n",
       "\\item r\n",
       "\\item q\n",
       "\\item p\n",
       "\\item r\n",
       "\\item x\n",
       "\\item x\n",
       "\\item s\n",
       "\\item ababa\n",
       "\\item e\n",
       "\\item n\n",
       "\\item i\n",
       "\\item y\n",
       "\\item v\n",
       "\\item o\n",
       "\\item r\n",
       "\\item x\n",
       "\\item p\n",
       "\\item x\n",
       "\\item g\n",
       "\\item i\n",
       "\\item l\n",
       "\\item e\n",
       "\\item y\n",
       "\\item v\n",
       "\\item ababa\n",
       "\\item n\n",
       "\\item h\n",
       "\\item s\n",
       "\\end{enumerate*}\n",
       "\n",
       "\\emph{Levels}: \\begin{enumerate*}\n",
       "\\item 'ababa'\n",
       "\\item 'e'\n",
       "\\item 'g'\n",
       "\\item 'h'\n",
       "\\item 'i'\n",
       "\\item 'j'\n",
       "\\item 'l'\n",
       "\\item 'n'\n",
       "\\item 'o'\n",
       "\\item 'p'\n",
       "\\item 'q'\n",
       "\\item 'r'\n",
       "\\item 's'\n",
       "\\item 'v'\n",
       "\\item 'x'\n",
       "\\item 'y'\n",
       "\\end{enumerate*}\n"
      ],
      "text/markdown": [
       "1. j\n",
       "2. s\n",
       "3. r\n",
       "4. q\n",
       "5. p\n",
       "6. r\n",
       "7. x\n",
       "8. x\n",
       "9. s\n",
       "10. ababa\n",
       "11. e\n",
       "12. n\n",
       "13. i\n",
       "14. y\n",
       "15. v\n",
       "16. o\n",
       "17. r\n",
       "18. x\n",
       "19. p\n",
       "20. x\n",
       "21. g\n",
       "22. i\n",
       "23. l\n",
       "24. e\n",
       "25. y\n",
       "26. v\n",
       "27. ababa\n",
       "28. n\n",
       "29. h\n",
       "30. s\n",
       "\n",
       "\n",
       "\n",
       "**Levels**: 1. 'ababa'\n",
       "2. 'e'\n",
       "3. 'g'\n",
       "4. 'h'\n",
       "5. 'i'\n",
       "6. 'j'\n",
       "7. 'l'\n",
       "8. 'n'\n",
       "9. 'o'\n",
       "10. 'p'\n",
       "11. 'q'\n",
       "12. 'r'\n",
       "13. 's'\n",
       "14. 'v'\n",
       "15. 'x'\n",
       "16. 'y'\n",
       "\n",
       "\n"
      ],
      "text/plain": [
       " [1] j     s     r     q     p     r     x     x     s     ababa e     n    \n",
       "[13] i     y     v     o     r     x     p     x     g     i     l     e    \n",
       "[25] y     v     ababa n     h     s    \n",
       "Levels: ababa e g h i j l n o p q r s v x y"
      ]
     },
     "metadata": {},
     "output_type": "display_data"
    }
   ],
   "source": [
    "levels(f)[1] <- 'ababa'\n",
    "f"
   ]
  },
  {
   "cell_type": "markdown",
   "id": "f5c1f136-83f4-4bcd-92ce-456bcaa1aea5",
   "metadata": {},
   "source": [
    "***ORDERED FACTORS***\n",
    "\n",
    "- for ordinal variables\n",
    "- created using 'ordered' function or 'ordered = T' argument for 'factor' function"
   ]
  },
  {
   "cell_type": "code",
   "execution_count": 88,
   "id": "edb4a6ff-34f4-401c-9dba-37ae58a57bf4",
   "metadata": {},
   "outputs": [
    {
     "data": {
      "text/html": [
       "<style>\n",
       ".list-inline {list-style: none; margin:0; padding: 0}\n",
       ".list-inline>li {display: inline-block}\n",
       ".list-inline>li:not(:last-child)::after {content: \"\\00b7\"; padding: 0 .5ex}\n",
       "</style>\n",
       "<ol class=list-inline><li>burning hot</li><li>burning hot</li><li>hot</li><li>hot</li><li>hot</li></ol>\n",
       "\n",
       "<details>\n",
       "\t<summary style=display:list-item;cursor:pointer>\n",
       "\t\t<strong>Levels</strong>:\n",
       "\t</summary>\n",
       "\t<style>\n",
       "\t.list-inline {list-style: none; margin:0; padding: 0}\n",
       "\t.list-inline>li {display: inline-block}\n",
       "\t.list-inline>li:not(:last-child)::after {content: \"\\00b7\"; padding: 0 .5ex}\n",
       "\t</style>\n",
       "\t<ol class=list-inline><li>'burning cold'</li><li>'cold'</li><li>'neutral'</li><li>'warm'</li><li>'hot'</li><li>'burning hot'</li></ol>\n",
       "</details>"
      ],
      "text/latex": [
       "\\begin{enumerate*}\n",
       "\\item burning hot\n",
       "\\item burning hot\n",
       "\\item hot\n",
       "\\item hot\n",
       "\\item hot\n",
       "\\end{enumerate*}\n",
       "\n",
       "\\emph{Levels}: \\begin{enumerate*}\n",
       "\\item 'burning cold'\n",
       "\\item 'cold'\n",
       "\\item 'neutral'\n",
       "\\item 'warm'\n",
       "\\item 'hot'\n",
       "\\item 'burning hot'\n",
       "\\end{enumerate*}\n"
      ],
      "text/markdown": [
       "1. burning hot\n",
       "2. burning hot\n",
       "3. hot\n",
       "4. hot\n",
       "5. hot\n",
       "\n",
       "\n",
       "\n",
       "**Levels**: 1. 'burning cold'\n",
       "2. 'cold'\n",
       "3. 'neutral'\n",
       "4. 'warm'\n",
       "5. 'hot'\n",
       "6. 'burning hot'\n",
       "\n",
       "\n"
      ],
      "text/plain": [
       "[1] burning hot burning hot hot         hot         hot        \n",
       "Levels: burning cold < cold < neutral < warm < hot < burning hot"
      ]
     },
     "metadata": {},
     "output_type": "display_data"
    }
   ],
   "source": [
    "grad <- c(\"burning cold\", \"cold\", \"neutral\", \"warm\", \"hot\", \"burning hot\")\n",
    "ft <- ordered(sample(grad, 14, replace = TRUE), grad)\n",
    "ft[ft > \"warm\"]"
   ]
  },
  {
   "cell_type": "code",
   "execution_count": 89,
   "id": "b4385a61-df61-4741-84ef-98b2e46bd6a2",
   "metadata": {},
   "outputs": [
    {
     "data": {
      "text/html": [
       "<style>\n",
       ".list-inline {list-style: none; margin:0; padding: 0}\n",
       ".list-inline>li {display: inline-block}\n",
       ".list-inline>li:not(:last-child)::after {content: \"\\00b7\"; padding: 0 .5ex}\n",
       "</style>\n",
       "<ol class=list-inline><li>14</li><li>24</li><li>11</li><li>4</li><li>16</li><li>21</li><li>28</li><li>1</li><li>5</li><li>20</li><li>26</li><li>12</li><li>30</li><li>3</li><li>23</li><li>8</li><li>22</li><li>18</li><li>17</li><li>6</li></ol>\n",
       "\n",
       "<details>\n",
       "\t<summary style=display:list-item;cursor:pointer>\n",
       "\t\t<strong>Levels</strong>:\n",
       "\t</summary>\n",
       "\t<style>\n",
       "\t.list-inline {list-style: none; margin:0; padding: 0}\n",
       "\t.list-inline>li {display: inline-block}\n",
       "\t.list-inline>li:not(:last-child)::after {content: \"\\00b7\"; padding: 0 .5ex}\n",
       "\t</style>\n",
       "\t<ol class=list-inline><li>'1'</li><li>'3'</li><li>'4'</li><li>'5'</li><li>'6'</li><li>'8'</li><li>'11'</li><li>'12'</li><li>'14'</li><li>'16'</li><li>'17'</li><li>'18'</li><li>'20'</li><li>'21'</li><li>'22'</li><li>'23'</li><li>'24'</li><li>'26'</li><li>'28'</li><li>'30'</li></ol>\n",
       "</details>"
      ],
      "text/latex": [
       "\\begin{enumerate*}\n",
       "\\item 14\n",
       "\\item 24\n",
       "\\item 11\n",
       "\\item 4\n",
       "\\item 16\n",
       "\\item 21\n",
       "\\item 28\n",
       "\\item 1\n",
       "\\item 5\n",
       "\\item 20\n",
       "\\item 26\n",
       "\\item 12\n",
       "\\item 30\n",
       "\\item 3\n",
       "\\item 23\n",
       "\\item 8\n",
       "\\item 22\n",
       "\\item 18\n",
       "\\item 17\n",
       "\\item 6\n",
       "\\end{enumerate*}\n",
       "\n",
       "\\emph{Levels}: \\begin{enumerate*}\n",
       "\\item '1'\n",
       "\\item '3'\n",
       "\\item '4'\n",
       "\\item '5'\n",
       "\\item '6'\n",
       "\\item '8'\n",
       "\\item '11'\n",
       "\\item '12'\n",
       "\\item '14'\n",
       "\\item '16'\n",
       "\\item '17'\n",
       "\\item '18'\n",
       "\\item '20'\n",
       "\\item '21'\n",
       "\\item '22'\n",
       "\\item '23'\n",
       "\\item '24'\n",
       "\\item '26'\n",
       "\\item '28'\n",
       "\\item '30'\n",
       "\\end{enumerate*}\n"
      ],
      "text/markdown": [
       "1. 14\n",
       "2. 24\n",
       "3. 11\n",
       "4. 4\n",
       "5. 16\n",
       "6. 21\n",
       "7. 28\n",
       "8. 1\n",
       "9. 5\n",
       "10. 20\n",
       "11. 26\n",
       "12. 12\n",
       "13. 30\n",
       "14. 3\n",
       "15. 23\n",
       "16. 8\n",
       "17. 22\n",
       "18. 18\n",
       "19. 17\n",
       "20. 6\n",
       "\n",
       "\n",
       "\n",
       "**Levels**: 1. '1'\n",
       "2. '3'\n",
       "3. '4'\n",
       "4. '5'\n",
       "5. '6'\n",
       "6. '8'\n",
       "7. '11'\n",
       "8. '12'\n",
       "9. '14'\n",
       "10. '16'\n",
       "11. '17'\n",
       "12. '18'\n",
       "13. '20'\n",
       "14. '21'\n",
       "15. '22'\n",
       "16. '23'\n",
       "17. '24'\n",
       "18. '26'\n",
       "19. '28'\n",
       "20. '30'\n",
       "\n",
       "\n"
      ],
      "text/plain": [
       " [1] 14 24 11 4  16 21 28 1  5  20 26 12 30 3  23 8  22 18 17 6 \n",
       "20 Levels: 1 < 3 < 4 < 5 < 6 < 8 < 11 < 12 < 14 < 16 < 17 < 18 < 20 < ... < 30"
      ]
     },
     "metadata": {},
     "output_type": "display_data"
    }
   ],
   "source": [
    "ft2 <- factor(sample(seq(1:30), 20, replace = FALSE), ordered = TRUE)\n",
    "ft2"
   ]
  },
  {
   "cell_type": "markdown",
   "id": "cbd7fdb2-9f2f-47ca-be0c-b7b5b74172a3",
   "metadata": {},
   "source": [
    "***'Cut' function***\n",
    "- breaks _numeric_ vectors into intervals, thus transforming quantitative data into a nominal data\n",
    "- use 'table' to count number of elements in a given interval"
   ]
  },
  {
   "cell_type": "code",
   "execution_count": 90,
   "id": "5c87bfc6-e222-4887-b094-fc8263616191",
   "metadata": {},
   "outputs": [
    {
     "data": {
      "text/html": [
       "<style>\n",
       ".list-inline {list-style: none; margin:0; padding: 0}\n",
       ".list-inline>li {display: inline-block}\n",
       ".list-inline>li:not(:last-child)::after {content: \"\\00b7\"; padding: 0 .5ex}\n",
       "</style>\n",
       "<ol class=list-inline><li>0.52</li><li>-1.08</li><li>-0.06</li><li>2.2</li><li>-1.77</li><li>0.07</li><li>0.65</li><li>-0.71</li><li>1.02</li><li>0.63</li></ol>\n"
      ],
      "text/latex": [
       "\\begin{enumerate*}\n",
       "\\item 0.52\n",
       "\\item -1.08\n",
       "\\item -0.06\n",
       "\\item 2.2\n",
       "\\item -1.77\n",
       "\\item 0.07\n",
       "\\item 0.65\n",
       "\\item -0.71\n",
       "\\item 1.02\n",
       "\\item 0.63\n",
       "\\end{enumerate*}\n"
      ],
      "text/markdown": [
       "1. 0.52\n",
       "2. -1.08\n",
       "3. -0.06\n",
       "4. 2.2\n",
       "5. -1.77\n",
       "6. 0.07\n",
       "7. 0.65\n",
       "8. -0.71\n",
       "9. 1.02\n",
       "10. 0.63\n",
       "\n",
       "\n"
      ],
      "text/plain": [
       " [1]  0.52 -1.08 -0.06  2.20 -1.77  0.07  0.65 -0.71  1.02  0.63"
      ]
     },
     "metadata": {},
     "output_type": "display_data"
    },
    {
     "data": {
      "text/html": [
       "<style>\n",
       ".list-inline {list-style: none; margin:0; padding: 0}\n",
       ".list-inline>li {display: inline-block}\n",
       ".list-inline>li:not(:last-child)::after {content: \"\\00b7\"; padding: 0 .5ex}\n",
       "</style>\n",
       "<ol class=list-inline><li>(0,1]</li><li>(0,1]</li><li>(-1,0]</li><li>(-1,0]</li><li>(1,2]</li><li>(-1,0]</li><li>(-2,-1]</li><li>(-1,0]</li><li>(1,2]</li><li>(-3,-2]</li></ol>\n",
       "\n",
       "<details>\n",
       "\t<summary style=display:list-item;cursor:pointer>\n",
       "\t\t<strong>Levels</strong>:\n",
       "\t</summary>\n",
       "\t<style>\n",
       "\t.list-inline {list-style: none; margin:0; padding: 0}\n",
       "\t.list-inline>li {display: inline-block}\n",
       "\t.list-inline>li:not(:last-child)::after {content: \"\\00b7\"; padding: 0 .5ex}\n",
       "\t</style>\n",
       "\t<ol class=list-inline><li>'(-5,-4]'</li><li>'(-4,-3]'</li><li>'(-3,-2]'</li><li>'(-2,-1]'</li><li>'(-1,0]'</li><li>'(0,1]'</li><li>'(1,2]'</li><li>'(2,3]'</li><li>'(3,4]'</li><li>'(4,5]'</li></ol>\n",
       "</details>"
      ],
      "text/latex": [
       "\\begin{enumerate*}\n",
       "\\item (0,1{]}\n",
       "\\item (0,1{]}\n",
       "\\item (-1,0{]}\n",
       "\\item (-1,0{]}\n",
       "\\item (1,2{]}\n",
       "\\item (-1,0{]}\n",
       "\\item (-2,-1{]}\n",
       "\\item (-1,0{]}\n",
       "\\item (1,2{]}\n",
       "\\item (-3,-2{]}\n",
       "\\end{enumerate*}\n",
       "\n",
       "\\emph{Levels}: \\begin{enumerate*}\n",
       "\\item '(-5,-4{]}'\n",
       "\\item '(-4,-3{]}'\n",
       "\\item '(-3,-2{]}'\n",
       "\\item '(-2,-1{]}'\n",
       "\\item '(-1,0{]}'\n",
       "\\item '(0,1{]}'\n",
       "\\item '(1,2{]}'\n",
       "\\item '(2,3{]}'\n",
       "\\item '(3,4{]}'\n",
       "\\item '(4,5{]}'\n",
       "\\end{enumerate*}\n"
      ],
      "text/markdown": [
       "1. (0,1]\n",
       "2. (0,1]\n",
       "3. (-1,0]\n",
       "4. (-1,0]\n",
       "5. (1,2]\n",
       "6. (-1,0]\n",
       "7. (-2,-1]\n",
       "8. (-1,0]\n",
       "9. (1,2]\n",
       "10. (-3,-2]\n",
       "\n",
       "\n",
       "\n",
       "**Levels**: 1. '(-5,-4]'\n",
       "2. '(-4,-3]'\n",
       "3. '(-3,-2]'\n",
       "4. '(-2,-1]'\n",
       "5. '(-1,0]'\n",
       "6. '(0,1]'\n",
       "7. '(1,2]'\n",
       "8. '(2,3]'\n",
       "9. '(3,4]'\n",
       "10. '(4,5]'\n",
       "\n",
       "\n"
      ],
      "text/plain": [
       " [1] (0,1]   (0,1]   (-1,0]  (-1,0]  (1,2]   (-1,0]  (-2,-1] (-1,0]  (1,2]  \n",
       "[10] (-3,-2]\n",
       "10 Levels: (-5,-4] (-4,-3] (-3,-2] (-2,-1] (-1,0] (0,1] (1,2] (2,3] ... (4,5]"
      ]
     },
     "metadata": {},
     "output_type": "display_data"
    },
    {
     "data": {
      "text/plain": [
       "\n",
       "(-5,-4] (-4,-3] (-3,-2] (-2,-1]  (-1,0]   (0,1]   (1,2]   (2,3]   (3,4]   (4,5] \n",
       "      0       0       0       1       0       6       3       0       0       0 "
      ]
     },
     "metadata": {},
     "output_type": "display_data"
    }
   ],
   "source": [
    "round(rnorm(10), 2); cut(rnorm(10), -5:5); table(cut(rnorm(10), -5:5))"
   ]
  },
  {
   "cell_type": "markdown",
   "id": "0c5b92e7-bddf-4e70-88c5-7c8e63490940",
   "metadata": {},
   "source": [
    "***Tapply***\n",
    "\n",
    "- apply function for factors\n",
    "- factors are always encountered in data frames representing some nominal values\n",
    "- frequency count is always a task in the case of factor variables"
   ]
  },
  {
   "cell_type": "code",
   "execution_count": 91,
   "id": "f28970eb-b62f-4250-9446-690318a8621b",
   "metadata": {},
   "outputs": [
    {
     "name": "stdout",
     "output_type": "stream",
     "text": [
      "'data.frame':\t54 obs. of  3 variables:\n",
      " $ breaks : num  26 30 54 25 70 52 51 26 67 18 ...\n",
      " $ wool   : Factor w/ 2 levels \"A\",\"B\": 1 1 1 1 1 1 1 1 1 1 ...\n",
      " $ tension: Factor w/ 3 levels \"L\",\"M\",\"H\": 1 1 1 1 1 1 1 1 1 2 ...\n"
     ]
    }
   ],
   "source": [
    "str(warpbreaks)"
   ]
  },
  {
   "cell_type": "code",
   "execution_count": 92,
   "id": "5bad8396-31d6-4355-933f-ac99d55ee990",
   "metadata": {},
   "outputs": [
    {
     "data": {
      "text/html": [
       "<style>\n",
       ".dl-inline {width: auto; margin:0; padding: 0}\n",
       ".dl-inline>dt, .dl-inline>dd {float: none; width: auto; display: inline-block}\n",
       ".dl-inline>dt::after {content: \":\\0020\"; padding-right: .5ex}\n",
       ".dl-inline>dt:not(:first-of-type) {padding-left: .5ex}\n",
       "</style><dl class=dl-inline><dt>A</dt><dd>70</dd><dt>B</dt><dd>44</dd></dl>\n"
      ],
      "text/latex": [
       "\\begin{description*}\n",
       "\\item[A] 70\n",
       "\\item[B] 44\n",
       "\\end{description*}\n"
      ],
      "text/markdown": [
       "A\n",
       ":   70B\n",
       ":   44\n",
       "\n"
      ],
      "text/plain": [
       " A  B \n",
       "70 44 "
      ]
     },
     "metadata": {},
     "output_type": "display_data"
    }
   ],
   "source": [
    "tapply(warpbreaks$breaks, warpbreaks$wool, max)"
   ]
  },
  {
   "cell_type": "markdown",
   "id": "c3c25b58-c702-4e52-a51c-c4756f3f8c1b",
   "metadata": {},
   "source": [
    "***Homework***"
   ]
  },
  {
   "cell_type": "code",
   "execution_count": 93,
   "id": "af194c25-7000-44ef-b543-30ae7b26f300",
   "metadata": {},
   "outputs": [
    {
     "name": "stdout",
     "output_type": "stream",
     "text": [
      "'data.frame':\t1000 obs. of  5 variables:\n",
      " $ lat     : num  -20.4 -20.6 -26 -18 -20.4 ...\n",
      " $ long    : num  182 181 184 182 182 ...\n",
      " $ depth   : int  562 650 42 626 649 195 82 194 211 622 ...\n",
      " $ mag     : num  4.8 4.2 5.4 4.1 4 4 4.8 4.4 4.7 4.3 ...\n",
      " $ stations: int  41 15 43 19 11 12 43 15 35 19 ...\n"
     ]
    },
    {
     "data": {
      "text/plain": [
       "   Min. 1st Qu.  Median    Mean 3rd Qu.    Max. \n",
       "   4.00    4.30    4.60    4.62    4.90    6.40 "
      ]
     },
     "metadata": {},
     "output_type": "display_data"
    },
    {
     "data": {
      "text/plain": [
       "\n",
       "[4,4.5) [4.5,5) [5,5.5) [5.5,6) [6,6.5) \n",
       "    377     425     160      33       5 "
      ]
     },
     "metadata": {},
     "output_type": "display_data"
    },
    {
     "data": {
      "text/plain": [
       "\n",
       "[4,4.5) [4.5,5) [5,5.5) [5.5,6) [6,6.5) \n",
       "    377     425     160      33       5 "
      ]
     },
     "metadata": {},
     "output_type": "display_data"
    }
   ],
   "source": [
    "df <- quakes\n",
    "str(quakes);summary(quakes$mag)\n",
    "# 2 ways\n",
    "table(cut(quakes$mag, seq(min(quakes$mag), max(quakes$mag)+0.5, by = 0.5), right = F))\n",
    "table(cut(quakes$mag, seq(4, by = 0.5, length = 6), right = F))"
   ]
  },
  {
   "cell_type": "code",
   "execution_count": 94,
   "id": "1bc2bd46-ba8d-4271-9a49-0b7d494a2dec",
   "metadata": {},
   "outputs": [
    {
     "name": "stdout",
     "output_type": "stream",
     "text": [
      "'data.frame':\t1070 obs. of  17 variables:\n",
      " $ Site    : chr  \"BunkerHill27\" \"BunkerHill27\" \"BunkerHill27\" \"BunkerHill27\" ...\n",
      " $ Observer: chr  \"RA\" \"RA\" \"RA\" \"RA\" ...\n",
      " $ Subpoint: int  1 2 3 4 5 6 7 8 9 10 ...\n",
      " $ VOR     : num  6 4.5 2 2.5 4 2 5.5 4 3.5 3.5 ...\n",
      " $ PDB     : int  3 2 4 3 4 3 3 2 2 2 ...\n",
      " $ DBHt    : num  5.2 3.1 5.5 6.2 5.4 4 5.2 4.4 5.7 4.8 ...\n",
      " $ PW      : int  0 3 1 0 0 0 2 1 1 0 ...\n",
      " $ WHt     : num  0 4.7 5.8 0 0 0 6.3 4.1 5.7 0 ...\n",
      " $ PE      : int  4 3 3 3 3 3 2 2 2 1 ...\n",
      " $ EHt     : num  2.9 4.1 3.9 4 3.5 4.1 2.6 4.3 5.2 1.7 ...\n",
      " $ PA      : int  0 0 0 0 0 0 0 0 0 0 ...\n",
      " $ AHt     : num  0 0 0 0 0 0 0 0 0 0 ...\n",
      " $ PH      : int  4 3 3 4 4 2 4 5 4 5 ...\n",
      " $ HHt     : num  3 3.5 7.5 5 3.7 3.5 5.8 8.2 6.9 5.7 ...\n",
      " $ PL      : int  0 2 0 0 0 0 0 0 0 0 ...\n",
      " $ LHt     : num  0 1 0 0 0 0 0 0 0 0 ...\n",
      " $ PB      : int  0 0 0 0 0 0 0 0 0 0 ...\n"
     ]
    },
    {
     "data": {
      "text/html": [
       "<table class=\"dataframe\">\n",
       "<caption>A data.frame: 6 × 17</caption>\n",
       "<thead>\n",
       "\t<tr><th></th><th scope=col>Site</th><th scope=col>Observer</th><th scope=col>Subpoint</th><th scope=col>VOR</th><th scope=col>PDB</th><th scope=col>DBHt</th><th scope=col>PW</th><th scope=col>WHt</th><th scope=col>PE</th><th scope=col>EHt</th><th scope=col>PA</th><th scope=col>AHt</th><th scope=col>PH</th><th scope=col>HHt</th><th scope=col>PL</th><th scope=col>LHt</th><th scope=col>PB</th></tr>\n",
       "\t<tr><th></th><th scope=col>&lt;chr&gt;</th><th scope=col>&lt;chr&gt;</th><th scope=col>&lt;int&gt;</th><th scope=col>&lt;dbl&gt;</th><th scope=col>&lt;int&gt;</th><th scope=col>&lt;dbl&gt;</th><th scope=col>&lt;int&gt;</th><th scope=col>&lt;dbl&gt;</th><th scope=col>&lt;int&gt;</th><th scope=col>&lt;dbl&gt;</th><th scope=col>&lt;int&gt;</th><th scope=col>&lt;dbl&gt;</th><th scope=col>&lt;int&gt;</th><th scope=col>&lt;dbl&gt;</th><th scope=col>&lt;int&gt;</th><th scope=col>&lt;dbl&gt;</th><th scope=col>&lt;int&gt;</th></tr>\n",
       "</thead>\n",
       "<tbody>\n",
       "\t<tr><th scope=row>1</th><td>BunkerHill27</td><td>RA</td><td>1</td><td>6.0</td><td>3</td><td>5.2</td><td>0</td><td>0.0</td><td>4</td><td>2.9</td><td>0</td><td>0</td><td>4</td><td>3.0</td><td>0</td><td>0</td><td>0</td></tr>\n",
       "\t<tr><th scope=row>2</th><td>BunkerHill27</td><td>RA</td><td>2</td><td>4.5</td><td>2</td><td>3.1</td><td>3</td><td>4.7</td><td>3</td><td>4.1</td><td>0</td><td>0</td><td>3</td><td>3.5</td><td>2</td><td>1</td><td>0</td></tr>\n",
       "\t<tr><th scope=row>3</th><td>BunkerHill27</td><td>RA</td><td>3</td><td>2.0</td><td>4</td><td>5.5</td><td>1</td><td>5.8</td><td>3</td><td>3.9</td><td>0</td><td>0</td><td>3</td><td>7.5</td><td>0</td><td>0</td><td>0</td></tr>\n",
       "\t<tr><th scope=row>4</th><td>BunkerHill27</td><td>RA</td><td>4</td><td>2.5</td><td>3</td><td>6.2</td><td>0</td><td>0.0</td><td>3</td><td>4.0</td><td>0</td><td>0</td><td>4</td><td>5.0</td><td>0</td><td>0</td><td>0</td></tr>\n",
       "\t<tr><th scope=row>5</th><td>BunkerHill27</td><td>RA</td><td>5</td><td>4.0</td><td>4</td><td>5.4</td><td>0</td><td>0.0</td><td>3</td><td>3.5</td><td>0</td><td>0</td><td>4</td><td>3.7</td><td>0</td><td>0</td><td>0</td></tr>\n",
       "\t<tr><th scope=row>6</th><td>BunkerHill27</td><td>JT</td><td>6</td><td>2.0</td><td>3</td><td>4.0</td><td>0</td><td>0.0</td><td>3</td><td>4.1</td><td>0</td><td>0</td><td>2</td><td>3.5</td><td>0</td><td>0</td><td>0</td></tr>\n",
       "</tbody>\n",
       "</table>\n"
      ],
      "text/latex": [
       "A data.frame: 6 × 17\n",
       "\\begin{tabular}{r|lllllllllllllllll}\n",
       "  & Site & Observer & Subpoint & VOR & PDB & DBHt & PW & WHt & PE & EHt & PA & AHt & PH & HHt & PL & LHt & PB\\\\\n",
       "  & <chr> & <chr> & <int> & <dbl> & <int> & <dbl> & <int> & <dbl> & <int> & <dbl> & <int> & <dbl> & <int> & <dbl> & <int> & <dbl> & <int>\\\\\n",
       "\\hline\n",
       "\t1 & BunkerHill27 & RA & 1 & 6.0 & 3 & 5.2 & 0 & 0.0 & 4 & 2.9 & 0 & 0 & 4 & 3.0 & 0 & 0 & 0\\\\\n",
       "\t2 & BunkerHill27 & RA & 2 & 4.5 & 2 & 3.1 & 3 & 4.7 & 3 & 4.1 & 0 & 0 & 3 & 3.5 & 2 & 1 & 0\\\\\n",
       "\t3 & BunkerHill27 & RA & 3 & 2.0 & 4 & 5.5 & 1 & 5.8 & 3 & 3.9 & 0 & 0 & 3 & 7.5 & 0 & 0 & 0\\\\\n",
       "\t4 & BunkerHill27 & RA & 4 & 2.5 & 3 & 6.2 & 0 & 0.0 & 3 & 4.0 & 0 & 0 & 4 & 5.0 & 0 & 0 & 0\\\\\n",
       "\t5 & BunkerHill27 & RA & 5 & 4.0 & 4 & 5.4 & 0 & 0.0 & 3 & 3.5 & 0 & 0 & 4 & 3.7 & 0 & 0 & 0\\\\\n",
       "\t6 & BunkerHill27 & JT & 6 & 2.0 & 3 & 4.0 & 0 & 0.0 & 3 & 4.1 & 0 & 0 & 2 & 3.5 & 0 & 0 & 0\\\\\n",
       "\\end{tabular}\n"
      ],
      "text/markdown": [
       "\n",
       "A data.frame: 6 × 17\n",
       "\n",
       "| <!--/--> | Site &lt;chr&gt; | Observer &lt;chr&gt; | Subpoint &lt;int&gt; | VOR &lt;dbl&gt; | PDB &lt;int&gt; | DBHt &lt;dbl&gt; | PW &lt;int&gt; | WHt &lt;dbl&gt; | PE &lt;int&gt; | EHt &lt;dbl&gt; | PA &lt;int&gt; | AHt &lt;dbl&gt; | PH &lt;int&gt; | HHt &lt;dbl&gt; | PL &lt;int&gt; | LHt &lt;dbl&gt; | PB &lt;int&gt; |\n",
       "|---|---|---|---|---|---|---|---|---|---|---|---|---|---|---|---|---|---|\n",
       "| 1 | BunkerHill27 | RA | 1 | 6.0 | 3 | 5.2 | 0 | 0.0 | 4 | 2.9 | 0 | 0 | 4 | 3.0 | 0 | 0 | 0 |\n",
       "| 2 | BunkerHill27 | RA | 2 | 4.5 | 2 | 3.1 | 3 | 4.7 | 3 | 4.1 | 0 | 0 | 3 | 3.5 | 2 | 1 | 0 |\n",
       "| 3 | BunkerHill27 | RA | 3 | 2.0 | 4 | 5.5 | 1 | 5.8 | 3 | 3.9 | 0 | 0 | 3 | 7.5 | 0 | 0 | 0 |\n",
       "| 4 | BunkerHill27 | RA | 4 | 2.5 | 3 | 6.2 | 0 | 0.0 | 3 | 4.0 | 0 | 0 | 4 | 5.0 | 0 | 0 | 0 |\n",
       "| 5 | BunkerHill27 | RA | 5 | 4.0 | 4 | 5.4 | 0 | 0.0 | 3 | 3.5 | 0 | 0 | 4 | 3.7 | 0 | 0 | 0 |\n",
       "| 6 | BunkerHill27 | JT | 6 | 2.0 | 3 | 4.0 | 0 | 0.0 | 3 | 4.1 | 0 | 0 | 2 | 3.5 | 0 | 0 | 0 |\n",
       "\n"
      ],
      "text/plain": [
       "  Site         Observer Subpoint VOR PDB DBHt PW WHt PE EHt PA AHt PH HHt PL\n",
       "1 BunkerHill27 RA       1        6.0 3   5.2  0  0.0 4  2.9 0  0   4  3.0 0 \n",
       "2 BunkerHill27 RA       2        4.5 2   3.1  3  4.7 3  4.1 0  0   3  3.5 2 \n",
       "3 BunkerHill27 RA       3        2.0 4   5.5  1  5.8 3  3.9 0  0   3  7.5 0 \n",
       "4 BunkerHill27 RA       4        2.5 3   6.2  0  0.0 3  4.0 0  0   4  5.0 0 \n",
       "5 BunkerHill27 RA       5        4.0 4   5.4  0  0.0 3  3.5 0  0   4  3.7 0 \n",
       "6 BunkerHill27 JT       6        2.0 3   4.0  0  0.0 3  4.1 0  0   2  3.5 0 \n",
       "  LHt PB\n",
       "1 0   0 \n",
       "2 1   0 \n",
       "3 0   0 \n",
       "4 0   0 \n",
       "5 0   0 \n",
       "6 0   0 "
      ]
     },
     "metadata": {},
     "output_type": "display_data"
    },
    {
     "data": {
      "text/plain": [
       "     Site             Observer            Subpoint           VOR        \n",
       " Length:1070        Length:1070        Min.   : 1.000   Min.   : 0.000  \n",
       " Class :character   Class :character   1st Qu.: 3.000   1st Qu.: 0.000  \n",
       " Mode  :character   Mode  :character   Median : 6.000   Median : 1.000  \n",
       "                                       Mean   : 5.921   Mean   : 1.203  \n",
       "                                       3rd Qu.: 8.000   3rd Qu.: 1.500  \n",
       "                                       Max.   :15.000   Max.   :19.000  \n",
       "      PDB              DBHt               PW             WHt        \n",
       " Min.   :0.0000   Min.   : 0.0000   Min.   :0.000   Min.   : 0.000  \n",
       " 1st Qu.:0.0000   1st Qu.: 0.0000   1st Qu.:0.000   1st Qu.: 0.000  \n",
       " Median :0.0000   Median : 0.0000   Median :1.000   Median : 0.400  \n",
       " Mean   :0.8682   Mean   : 0.7827   Mean   :1.151   Mean   : 1.027  \n",
       " 3rd Qu.:2.0000   3rd Qu.: 1.2000   3rd Qu.:2.000   3rd Qu.: 1.100  \n",
       " Max.   :5.0000   Max.   :10.0000   Max.   :6.000   Max.   :24.500  \n",
       "       PE             EHt               PA               AHt        \n",
       " Min.   :0.000   Min.   :0.0000   Min.   :0.00000   Min.   : 0.000  \n",
       " 1st Qu.:1.000   1st Qu.:0.3000   1st Qu.:0.00000   1st Qu.: 0.000  \n",
       " Median :2.000   Median :0.8000   Median :0.00000   Median : 0.000  \n",
       " Mean   :2.239   Mean   :0.9659   Mean   :0.04206   Mean   : 0.186  \n",
       " 3rd Qu.:3.000   3rd Qu.:1.4000   3rd Qu.:0.00000   3rd Qu.: 0.000  \n",
       " Max.   :6.000   Max.   :5.3000   Max.   :6.00000   Max.   :31.500  \n",
       "       PH             HHt              PL             LHt        \n",
       " Min.   :0.000   Min.   :0.000   Min.   :0.000   Min.   :0.0000  \n",
       " 1st Qu.:2.000   1st Qu.:1.400   1st Qu.:0.000   1st Qu.:0.0000  \n",
       " Median :3.000   Median :2.300   Median :1.000   Median :0.2000  \n",
       " Mean   :2.867   Mean   :2.321   Mean   :1.652   Mean   :0.2685  \n",
       " 3rd Qu.:4.000   3rd Qu.:3.100   3rd Qu.:3.000   3rd Qu.:0.5000  \n",
       " Max.   :6.000   Max.   :8.200   Max.   :6.000   Max.   :1.3000  \n",
       "       PB        \n",
       " Min.   :0.0000  \n",
       " 1st Qu.:0.0000  \n",
       " Median :0.0000  \n",
       " Mean   :0.7318  \n",
       " 3rd Qu.:1.0000  \n",
       " Max.   :6.0000  "
      ]
     },
     "metadata": {},
     "output_type": "display_data"
    }
   ],
   "source": [
    "#Descriptive statistics and analytics with avianhabitat.csv\n",
    "\n",
    "avian <- read.csv(\"R_stuff/Stepik R basics/avianHabitat.csv\")\n",
    "str(avian)\n",
    "head(avian)\n",
    "summary(avian)"
   ]
  },
  {
   "cell_type": "code",
   "execution_count": 95,
   "id": "8293e1ee-d4b1-4ede-bfeb-edc050278b89",
   "metadata": {},
   "outputs": [
    {
     "data": {
      "text/html": [
       "FALSE"
      ],
      "text/latex": [
       "FALSE"
      ],
      "text/markdown": [
       "FALSE"
      ],
      "text/plain": [
       "[1] FALSE"
      ]
     },
     "metadata": {},
     "output_type": "display_data"
    },
    {
     "data": {
      "text/html": [
       "FALSE"
      ],
      "text/latex": [
       "FALSE"
      ],
      "text/markdown": [
       "FALSE"
      ],
      "text/plain": [
       "[1] FALSE"
      ]
     },
     "metadata": {},
     "output_type": "display_data"
    },
    {
     "data": {
      "text/html": [
       "FALSE"
      ],
      "text/latex": [
       "FALSE"
      ],
      "text/markdown": [
       "FALSE"
      ],
      "text/plain": [
       "[1] FALSE"
      ]
     },
     "metadata": {},
     "output_type": "display_data"
    }
   ],
   "source": [
    "any(!complete.cases(avian))\n",
    "any(avian$PDB < 0)\n",
    "any(avian$PDB > 100)"
   ]
  },
  {
   "cell_type": "code",
   "execution_count": 96,
   "id": "8c543973-3bd0-4b86-87f7-63247ba471b6",
   "metadata": {},
   "outputs": [
    {
     "name": "stdout",
     "output_type": "stream",
     "text": [
      "'data.frame':\t1070 obs. of  17 variables:\n",
      " $ Site    : chr  \"BunkerHill27\" \"BunkerHill27\" \"BunkerHill27\" \"BunkerHill27\" ...\n",
      " $ Observer: Factor w/ 3 levels \"JT\",\"RA\",\"RR\": 2 2 2 2 2 1 1 1 1 1 ...\n",
      " $ Subpoint: int  1 2 3 4 5 6 7 8 9 10 ...\n",
      " $ VOR     : num  6 4.5 2 2.5 4 2 5.5 4 3.5 3.5 ...\n",
      " $ PDB     : int  3 2 4 3 4 3 3 2 2 2 ...\n",
      " $ DBHt    : num  5.2 3.1 5.5 6.2 5.4 4 5.2 4.4 5.7 4.8 ...\n",
      " $ PW      : int  0 3 1 0 0 0 2 1 1 0 ...\n",
      " $ WHt     : num  0 4.7 5.8 0 0 0 6.3 4.1 5.7 0 ...\n",
      " $ PE      : int  4 3 3 3 3 3 2 2 2 1 ...\n",
      " $ EHt     : num  2.9 4.1 3.9 4 3.5 4.1 2.6 4.3 5.2 1.7 ...\n",
      " $ PA      : int  0 0 0 0 0 0 0 0 0 0 ...\n",
      " $ AHt     : num  0 0 0 0 0 0 0 0 0 0 ...\n",
      " $ PH      : int  4 3 3 4 4 2 4 5 4 5 ...\n",
      " $ HHt     : num  3 3.5 7.5 5 3.7 3.5 5.8 8.2 6.9 5.7 ...\n",
      " $ PL      : int  0 2 0 0 0 0 0 0 0 0 ...\n",
      " $ LHt     : num  0 1 0 0 0 0 0 0 0 0 ...\n",
      " $ PB      : int  0 0 0 0 0 0 0 0 0 0 ...\n"
     ]
    }
   ],
   "source": [
    "avian$Observer <- as.factor(avian$Observer)\n",
    "str(avian)"
   ]
  },
  {
   "cell_type": "code",
   "execution_count": 97,
   "id": "a0a867a5-55e7-44ef-9089-b0ddc5cb2002",
   "metadata": {},
   "outputs": [
    {
     "data": {
      "text/html": [
       "FALSE"
      ],
      "text/latex": [
       "FALSE"
      ],
      "text/markdown": [
       "FALSE"
      ],
      "text/plain": [
       "[1] FALSE"
      ]
     },
     "metadata": {},
     "output_type": "display_data"
    }
   ],
   "source": [
    "check_percent_range <- function(x) {\n",
    "    any (x < 0 | x > 100)\n",
    "}\n",
    "check_percent_range(avian$VOR)"
   ]
  },
  {
   "cell_type": "code",
   "execution_count": 98,
   "id": "cf6c3653-4a83-44a4-8c58-0909d1819316",
   "metadata": {},
   "outputs": [
    {
     "name": "stdout",
     "output_type": "stream",
     "text": [
      " num [1:1070] 11 13 11 10 11 8 11 10 9 8 ...\n"
     ]
    },
    {
     "data": {
      "text/html": [
       "<table class=\"dataframe\">\n",
       "<caption>A data.frame: 5 × 18</caption>\n",
       "<thead>\n",
       "\t<tr><th></th><th scope=col>Site</th><th scope=col>Observer</th><th scope=col>Subpoint</th><th scope=col>VOR</th><th scope=col>PDB</th><th scope=col>DBHt</th><th scope=col>PW</th><th scope=col>WHt</th><th scope=col>PE</th><th scope=col>EHt</th><th scope=col>PA</th><th scope=col>AHt</th><th scope=col>PH</th><th scope=col>HHt</th><th scope=col>PL</th><th scope=col>LHt</th><th scope=col>PB</th><th scope=col>total_coverage</th></tr>\n",
       "\t<tr><th></th><th scope=col>&lt;chr&gt;</th><th scope=col>&lt;fct&gt;</th><th scope=col>&lt;int&gt;</th><th scope=col>&lt;dbl&gt;</th><th scope=col>&lt;int&gt;</th><th scope=col>&lt;dbl&gt;</th><th scope=col>&lt;int&gt;</th><th scope=col>&lt;dbl&gt;</th><th scope=col>&lt;int&gt;</th><th scope=col>&lt;dbl&gt;</th><th scope=col>&lt;int&gt;</th><th scope=col>&lt;dbl&gt;</th><th scope=col>&lt;int&gt;</th><th scope=col>&lt;dbl&gt;</th><th scope=col>&lt;int&gt;</th><th scope=col>&lt;dbl&gt;</th><th scope=col>&lt;int&gt;</th><th scope=col>&lt;dbl&gt;</th></tr>\n",
       "</thead>\n",
       "<tbody>\n",
       "\t<tr><th scope=row>1</th><td>BunkerHill27</td><td>RA</td><td>1</td><td>6.0</td><td>3</td><td>5.2</td><td>0</td><td>0.0</td><td>4</td><td>2.9</td><td>0</td><td>0</td><td>4</td><td>3.0</td><td>0</td><td>0</td><td>0</td><td>11</td></tr>\n",
       "\t<tr><th scope=row>2</th><td>BunkerHill27</td><td>RA</td><td>2</td><td>4.5</td><td>2</td><td>3.1</td><td>3</td><td>4.7</td><td>3</td><td>4.1</td><td>0</td><td>0</td><td>3</td><td>3.5</td><td>2</td><td>1</td><td>0</td><td>13</td></tr>\n",
       "\t<tr><th scope=row>3</th><td>BunkerHill27</td><td>RA</td><td>3</td><td>2.0</td><td>4</td><td>5.5</td><td>1</td><td>5.8</td><td>3</td><td>3.9</td><td>0</td><td>0</td><td>3</td><td>7.5</td><td>0</td><td>0</td><td>0</td><td>11</td></tr>\n",
       "\t<tr><th scope=row>4</th><td>BunkerHill27</td><td>RA</td><td>4</td><td>2.5</td><td>3</td><td>6.2</td><td>0</td><td>0.0</td><td>3</td><td>4.0</td><td>0</td><td>0</td><td>4</td><td>5.0</td><td>0</td><td>0</td><td>0</td><td>10</td></tr>\n",
       "\t<tr><th scope=row>5</th><td>BunkerHill27</td><td>RA</td><td>5</td><td>4.0</td><td>4</td><td>5.4</td><td>0</td><td>0.0</td><td>3</td><td>3.5</td><td>0</td><td>0</td><td>4</td><td>3.7</td><td>0</td><td>0</td><td>0</td><td>11</td></tr>\n",
       "</tbody>\n",
       "</table>\n"
      ],
      "text/latex": [
       "A data.frame: 5 × 18\n",
       "\\begin{tabular}{r|llllllllllllllllll}\n",
       "  & Site & Observer & Subpoint & VOR & PDB & DBHt & PW & WHt & PE & EHt & PA & AHt & PH & HHt & PL & LHt & PB & total\\_coverage\\\\\n",
       "  & <chr> & <fct> & <int> & <dbl> & <int> & <dbl> & <int> & <dbl> & <int> & <dbl> & <int> & <dbl> & <int> & <dbl> & <int> & <dbl> & <int> & <dbl>\\\\\n",
       "\\hline\n",
       "\t1 & BunkerHill27 & RA & 1 & 6.0 & 3 & 5.2 & 0 & 0.0 & 4 & 2.9 & 0 & 0 & 4 & 3.0 & 0 & 0 & 0 & 11\\\\\n",
       "\t2 & BunkerHill27 & RA & 2 & 4.5 & 2 & 3.1 & 3 & 4.7 & 3 & 4.1 & 0 & 0 & 3 & 3.5 & 2 & 1 & 0 & 13\\\\\n",
       "\t3 & BunkerHill27 & RA & 3 & 2.0 & 4 & 5.5 & 1 & 5.8 & 3 & 3.9 & 0 & 0 & 3 & 7.5 & 0 & 0 & 0 & 11\\\\\n",
       "\t4 & BunkerHill27 & RA & 4 & 2.5 & 3 & 6.2 & 0 & 0.0 & 3 & 4.0 & 0 & 0 & 4 & 5.0 & 0 & 0 & 0 & 10\\\\\n",
       "\t5 & BunkerHill27 & RA & 5 & 4.0 & 4 & 5.4 & 0 & 0.0 & 3 & 3.5 & 0 & 0 & 4 & 3.7 & 0 & 0 & 0 & 11\\\\\n",
       "\\end{tabular}\n"
      ],
      "text/markdown": [
       "\n",
       "A data.frame: 5 × 18\n",
       "\n",
       "| <!--/--> | Site &lt;chr&gt; | Observer &lt;fct&gt; | Subpoint &lt;int&gt; | VOR &lt;dbl&gt; | PDB &lt;int&gt; | DBHt &lt;dbl&gt; | PW &lt;int&gt; | WHt &lt;dbl&gt; | PE &lt;int&gt; | EHt &lt;dbl&gt; | PA &lt;int&gt; | AHt &lt;dbl&gt; | PH &lt;int&gt; | HHt &lt;dbl&gt; | PL &lt;int&gt; | LHt &lt;dbl&gt; | PB &lt;int&gt; | total_coverage &lt;dbl&gt; |\n",
       "|---|---|---|---|---|---|---|---|---|---|---|---|---|---|---|---|---|---|---|\n",
       "| 1 | BunkerHill27 | RA | 1 | 6.0 | 3 | 5.2 | 0 | 0.0 | 4 | 2.9 | 0 | 0 | 4 | 3.0 | 0 | 0 | 0 | 11 |\n",
       "| 2 | BunkerHill27 | RA | 2 | 4.5 | 2 | 3.1 | 3 | 4.7 | 3 | 4.1 | 0 | 0 | 3 | 3.5 | 2 | 1 | 0 | 13 |\n",
       "| 3 | BunkerHill27 | RA | 3 | 2.0 | 4 | 5.5 | 1 | 5.8 | 3 | 3.9 | 0 | 0 | 3 | 7.5 | 0 | 0 | 0 | 11 |\n",
       "| 4 | BunkerHill27 | RA | 4 | 2.5 | 3 | 6.2 | 0 | 0.0 | 3 | 4.0 | 0 | 0 | 4 | 5.0 | 0 | 0 | 0 | 10 |\n",
       "| 5 | BunkerHill27 | RA | 5 | 4.0 | 4 | 5.4 | 0 | 0.0 | 3 | 3.5 | 0 | 0 | 4 | 3.7 | 0 | 0 | 0 | 11 |\n",
       "\n"
      ],
      "text/plain": [
       "  Site         Observer Subpoint VOR PDB DBHt PW WHt PE EHt PA AHt PH HHt PL\n",
       "1 BunkerHill27 RA       1        6.0 3   5.2  0  0.0 4  2.9 0  0   4  3.0 0 \n",
       "2 BunkerHill27 RA       2        4.5 2   3.1  3  4.7 3  4.1 0  0   3  3.5 2 \n",
       "3 BunkerHill27 RA       3        2.0 4   5.5  1  5.8 3  3.9 0  0   3  7.5 0 \n",
       "4 BunkerHill27 RA       4        2.5 3   6.2  0  0.0 3  4.0 0  0   4  5.0 0 \n",
       "5 BunkerHill27 RA       5        4.0 4   5.4  0  0.0 3  3.5 0  0   4  3.7 0 \n",
       "  LHt PB total_coverage\n",
       "1 0   0  11            \n",
       "2 1   0  13            \n",
       "3 0   0  11            \n",
       "4 0   0  10            \n",
       "5 0   0  11            "
      ]
     },
     "metadata": {},
     "output_type": "display_data"
    }
   ],
   "source": [
    "# Using RE to yield coverage variables\n",
    "library(stringr)\n",
    "coverage_variables <- names(avian)[str_detect(names(avian), \"^P\")]\n",
    "avian$total_coverage <- rowSums(avian[, coverage_variables])\n",
    "str(avian$total_coverage)\n",
    "head(avian, 5)"
   ]
  },
  {
   "cell_type": "code",
   "execution_count": 99,
   "id": "707931e3-7a4f-4b18-97c4-01652bfa4556",
   "metadata": {},
   "outputs": [
    {
     "data": {
      "text/html": [
       "<style>\n",
       ".dl-inline {width: auto; margin:0; padding: 0}\n",
       ".dl-inline>dt, .dl-inline>dd {float: none; width: auto; display: inline-block}\n",
       ".dl-inline>dt::after {content: \":\\0020\"; padding-right: .5ex}\n",
       ".dl-inline>dt:not(:first-of-type) {padding-left: .5ex}\n",
       "</style><dl class=dl-inline><dt>PDB</dt><dd>FALSE</dd><dt>PW</dt><dd>FALSE</dd><dt>PE</dt><dd>FALSE</dd><dt>PA</dt><dd>FALSE</dd><dt>PH</dt><dd>FALSE</dd><dt>PL</dt><dd>FALSE</dd><dt>PB</dt><dd>FALSE</dd></dl>\n"
      ],
      "text/latex": [
       "\\begin{description*}\n",
       "\\item[PDB] FALSE\n",
       "\\item[PW] FALSE\n",
       "\\item[PE] FALSE\n",
       "\\item[PA] FALSE\n",
       "\\item[PH] FALSE\n",
       "\\item[PL] FALSE\n",
       "\\item[PB] FALSE\n",
       "\\end{description*}\n"
      ],
      "text/markdown": [
       "PDB\n",
       ":   FALSEPW\n",
       ":   FALSEPE\n",
       ":   FALSEPA\n",
       ":   FALSEPH\n",
       ":   FALSEPL\n",
       ":   FALSEPB\n",
       ":   FALSE\n",
       "\n"
      ],
      "text/plain": [
       "  PDB    PW    PE    PA    PH    PL    PB \n",
       "FALSE FALSE FALSE FALSE FALSE FALSE FALSE "
      ]
     },
     "metadata": {},
     "output_type": "display_data"
    }
   ],
   "source": [
    "sapply(coverage_variables, function(name) check_percent_range(avian[[name]]))"
   ]
  },
  {
   "cell_type": "markdown",
   "id": "789ccf3f-9434-4c9a-9641-0bcc39f471df",
   "metadata": {},
   "source": [
    "__Yielding Geolocation from Site column, evaluating the site with lowest total coverage of all the given species__"
   ]
  },
  {
   "cell_type": "code",
   "execution_count": 100,
   "id": "85c6cc13-011b-4f89-9c6e-965c7d0ac41a",
   "metadata": {},
   "outputs": [
    {
     "name": "stdout",
     "output_type": "stream",
     "text": [
      " Factor w/ 5 levels \"BunkerHill\",\"CreteCreek\",..: 1 1 1 1 1 1 1 1 1 1 ...\n"
     ]
    },
    {
     "data": {
      "text/html": [
       "<style>\n",
       ".dl-inline {width: auto; margin:0; padding: 0}\n",
       ".dl-inline>dt, .dl-inline>dd {float: none; width: auto; display: inline-block}\n",
       ".dl-inline>dt::after {content: \":\\0020\"; padding-right: .5ex}\n",
       ".dl-inline>dt:not(:first-of-type) {padding-left: .5ex}\n",
       "</style><dl class=dl-inline><dt>BunkerHill</dt><dd>9.23571428571429</dd><dt>CreteCreek</dt><dd>10.0210526315789</dd><dt>HortonCreek</dt><dd>10.1384615384615</dd><dt>LivingstonCreek</dt><dd>9.47931034482759</dd><dt>McAdamCreek</dt><dd>8.62631578947368</dd></dl>\n"
      ],
      "text/latex": [
       "\\begin{description*}\n",
       "\\item[BunkerHill] 9.23571428571429\n",
       "\\item[CreteCreek] 10.0210526315789\n",
       "\\item[HortonCreek] 10.1384615384615\n",
       "\\item[LivingstonCreek] 9.47931034482759\n",
       "\\item[McAdamCreek] 8.62631578947368\n",
       "\\end{description*}\n"
      ],
      "text/markdown": [
       "BunkerHill\n",
       ":   9.23571428571429CreteCreek\n",
       ":   10.0210526315789HortonCreek\n",
       ":   10.1384615384615LivingstonCreek\n",
       ":   9.47931034482759McAdamCreek\n",
       ":   8.62631578947368\n",
       "\n"
      ],
      "text/plain": [
       "     BunkerHill      CreteCreek     HortonCreek LivingstonCreek     McAdamCreek \n",
       "       9.235714       10.021053       10.138462        9.479310        8.626316 "
      ]
     },
     "metadata": {},
     "output_type": "display_data"
    },
    {
     "data": {
      "text/html": [
       "<style>\n",
       ".dl-inline {width: auto; margin:0; padding: 0}\n",
       ".dl-inline>dt, .dl-inline>dd {float: none; width: auto; display: inline-block}\n",
       ".dl-inline>dt::after {content: \":\\0020\"; padding-right: .5ex}\n",
       ".dl-inline>dt:not(:first-of-type) {padding-left: .5ex}\n",
       "</style><dl class=dl-inline><dt>McAdamCreek</dt><dd>8.62631578947368</dd><dt>BunkerHill</dt><dd>9.23571428571429</dd><dt>LivingstonCreek</dt><dd>9.47931034482759</dd><dt>CreteCreek</dt><dd>10.0210526315789</dd><dt>HortonCreek</dt><dd>10.1384615384615</dd></dl>\n"
      ],
      "text/latex": [
       "\\begin{description*}\n",
       "\\item[McAdamCreek] 8.62631578947368\n",
       "\\item[BunkerHill] 9.23571428571429\n",
       "\\item[LivingstonCreek] 9.47931034482759\n",
       "\\item[CreteCreek] 10.0210526315789\n",
       "\\item[HortonCreek] 10.1384615384615\n",
       "\\end{description*}\n"
      ],
      "text/markdown": [
       "McAdamCreek\n",
       ":   8.62631578947368BunkerHill\n",
       ":   9.23571428571429LivingstonCreek\n",
       ":   9.47931034482759CreteCreek\n",
       ":   10.0210526315789HortonCreek\n",
       ":   10.1384615384615\n",
       "\n"
      ],
      "text/plain": [
       "    McAdamCreek      BunkerHill LivingstonCreek      CreteCreek     HortonCreek \n",
       "       8.626316        9.235714        9.479310       10.021053       10.138462 "
      ]
     },
     "metadata": {},
     "output_type": "display_data"
    }
   ],
   "source": [
    "avian$Site_name <- factor(str_replace(avian$Site, \"[:digit:]+\", \"\"))\n",
    "str(avian$Site_name)\n",
    "tapply(avian$total_coverage, avian$Site_name, mean)\n",
    "sort(tapply(avian$total_coverage, avian$Site_name, mean))"
   ]
  },
  {
   "cell_type": "markdown",
   "id": "6285c33e-acb9-45d8-8ea4-b0a19443881c",
   "metadata": {},
   "source": [
    "#### Homework 2\n"
   ]
  },
  {
   "cell_type": "code",
   "execution_count": 113,
   "id": "783c71f8-9e41-4bbd-9db6-91816efacfde",
   "metadata": {},
   "outputs": [],
   "source": [
    "height_variables <- names(avian)[str_ends(names(avian), \"Ht\")]"
   ]
  },
  {
   "cell_type": "code",
   "execution_count": 115,
   "id": "6d9e6e71-2ec7-41b6-8a51-40d17fa2220d",
   "metadata": {},
   "outputs": [
    {
     "data": {
      "text/html": [
       "<table class=\"dataframe\">\n",
       "<caption>A matrix: 3 × 6 of type dbl</caption>\n",
       "<thead>\n",
       "\t<tr><th></th><th scope=col>DBHt</th><th scope=col>WHt</th><th scope=col>EHt</th><th scope=col>AHt</th><th scope=col>HHt</th><th scope=col>LHt</th></tr>\n",
       "</thead>\n",
       "<tbody>\n",
       "\t<tr><th scope=row>JT</th><td> 9.9</td><td>24.5</td><td>5.3</td><td>31.5</td><td>8.2</td><td>0.8</td></tr>\n",
       "\t<tr><th scope=row>RA</th><td>10.0</td><td>18.5</td><td>4.9</td><td>19.2</td><td>7.5</td><td>1.3</td></tr>\n",
       "\t<tr><th scope=row>RR</th><td> 5.0</td><td>22.0</td><td>4.2</td><td> 0.2</td><td>7.3</td><td>1.1</td></tr>\n",
       "</tbody>\n",
       "</table>\n"
      ],
      "text/latex": [
       "A matrix: 3 × 6 of type dbl\n",
       "\\begin{tabular}{r|llllll}\n",
       "  & DBHt & WHt & EHt & AHt & HHt & LHt\\\\\n",
       "\\hline\n",
       "\tJT &  9.9 & 24.5 & 5.3 & 31.5 & 8.2 & 0.8\\\\\n",
       "\tRA & 10.0 & 18.5 & 4.9 & 19.2 & 7.5 & 1.3\\\\\n",
       "\tRR &  5.0 & 22.0 & 4.2 &  0.2 & 7.3 & 1.1\\\\\n",
       "\\end{tabular}\n"
      ],
      "text/markdown": [
       "\n",
       "A matrix: 3 × 6 of type dbl\n",
       "\n",
       "| <!--/--> | DBHt | WHt | EHt | AHt | HHt | LHt |\n",
       "|---|---|---|---|---|---|---|\n",
       "| JT |  9.9 | 24.5 | 5.3 | 31.5 | 8.2 | 0.8 |\n",
       "| RA | 10.0 | 18.5 | 4.9 | 19.2 | 7.5 | 1.3 |\n",
       "| RR |  5.0 | 22.0 | 4.2 |  0.2 | 7.3 | 1.1 |\n",
       "\n"
      ],
      "text/plain": [
       "   DBHt WHt  EHt AHt  HHt LHt\n",
       "JT  9.9 24.5 5.3 31.5 8.2 0.8\n",
       "RA 10.0 18.5 4.9 19.2 7.5 1.3\n",
       "RR  5.0 22.0 4.2  0.2 7.3 1.1"
      ]
     },
     "metadata": {},
     "output_type": "display_data"
    }
   ],
   "source": [
    "sapply(avian[, height_variables], function(x) tapply(x, avian$Observer, max))"
   ]
  }
 ],
 "metadata": {
  "kernelspec": {
   "display_name": "R",
   "language": "R",
   "name": "r"
  },
  "language_info": {
   "codemirror_mode": "r",
   "file_extension": ".r",
   "mimetype": "text/x-r-source",
   "name": "R",
   "pygments_lexer": "r",
   "version": "4.2.2"
  }
 },
 "nbformat": 4,
 "nbformat_minor": 5
}
