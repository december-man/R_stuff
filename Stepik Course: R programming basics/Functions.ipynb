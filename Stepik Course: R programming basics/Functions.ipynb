{
 "cells": [
  {
   "cell_type": "markdown",
   "id": "9520a85f-4c16-441d-8b10-bef2ba32effa",
   "metadata": {},
   "source": [
    "## FUNCTIONS (JUN+ Programming)"
   ]
  },
  {
   "cell_type": "markdown",
   "id": "40284256-1df2-46f5-8ffc-1b0aa60fae04",
   "metadata": {},
   "source": [
    "#### *functions as an argument*"
   ]
  },
  {
   "cell_type": "code",
   "execution_count": 1,
   "id": "fc0be453-fcd8-4b40-9d3e-5f576b4f4feb",
   "metadata": {},
   "outputs": [
    {
     "name": "stdout",
     "output_type": "stream",
     "text": [
      "List of 2\n",
      " $ :function (x, ...)  \n",
      " $ :function (..., na.rm = FALSE)  \n"
     ]
    },
    {
     "data": {
      "text/html": [
       "<style>\n",
       ".list-inline {list-style: none; margin:0; padding: 0}\n",
       ".list-inline>li {display: inline-block}\n",
       ".list-inline>li:not(:last-child)::after {content: \"\\00b7\"; padding: 0 .5ex}\n",
       "</style>\n",
       "<ol class=list-inline><li>50.5</li><li>100</li></ol>\n"
      ],
      "text/latex": [
       "\\begin{enumerate*}\n",
       "\\item 50.5\n",
       "\\item 100\n",
       "\\end{enumerate*}\n"
      ],
      "text/markdown": [
       "1. 50.5\n",
       "2. 100\n",
       "\n",
       "\n"
      ],
      "text/plain": [
       "[1]  50.5 100.0"
      ]
     },
     "metadata": {},
     "output_type": "display_data"
    },
    {
     "data": {
      "text/html": [
       "<style>\n",
       ".list-inline {list-style: none; margin:0; padding: 0}\n",
       ".list-inline>li {display: inline-block}\n",
       ".list-inline>li:not(:last-child)::after {content: \"\\00b7\"; padding: 0 .5ex}\n",
       "</style>\n",
       "<ol class=list-inline><li>94.5</li><li>188</li></ol>\n"
      ],
      "text/latex": [
       "\\begin{enumerate*}\n",
       "\\item 94.5\n",
       "\\item 188\n",
       "\\end{enumerate*}\n"
      ],
      "text/markdown": [
       "1. 94.5\n",
       "2. 188\n",
       "\n",
       "\n"
      ],
      "text/plain": [
       "[1]  94.5 188.0"
      ]
     },
     "metadata": {},
     "output_type": "display_data"
    }
   ],
   "source": [
    "str(c(mean,max))\n",
    "fun_list <- c(mean,max)\n",
    "sapply(fun_list, function(f) f(1:100))\n",
    "apply_f <- function(f,x) f(x)\n",
    "sapply(fun_list, apply_f, x = 1:188)"
   ]
  },
  {
   "cell_type": "markdown",
   "id": "c2172239-5a7b-4fd9-9ebe-aac59dc02801",
   "metadata": {},
   "source": [
    "##### *Anonymous functions*"
   ]
  },
  {
   "cell_type": "code",
   "execution_count": 2,
   "id": "8126c72c-9b4e-4f75-a0f8-20f8746b553f",
   "metadata": {},
   "outputs": [
    {
     "data": {
      "text/html": [
       "2109"
      ],
      "text/latex": [
       "2109"
      ],
      "text/markdown": [
       "2109"
      ],
      "text/plain": [
       "[1] 2109"
      ]
     },
     "metadata": {},
     "output_type": "display_data"
    }
   ],
   "source": [
    "apply_f(function(x) sum(x^2), x=1:18)"
   ]
  },
  {
   "cell_type": "markdown",
   "id": "20caa66e-f8f7-4c01-9558-a8ec2b49990a",
   "metadata": {},
   "source": [
    "##### *Using functions as return value*"
   ]
  },
  {
   "cell_type": "code",
   "execution_count": 3,
   "id": "cfc39b63-de5b-4bf4-888e-682beb8a65be",
   "metadata": {},
   "outputs": [
    {
     "data": {
      "text/html": [
       "<pre class=language-r><code>function (x, y) \n",
       "x^2 + y^2</code></pre>"
      ],
      "text/latex": [
       "\\begin{minted}{r}\n",
       "function (x, y) \n",
       "x\\textasciicircum{}2 + y\\textasciicircum{}2\n",
       "\\end{minted}"
      ],
      "text/markdown": [
       "```r\n",
       "function (x, y) \n",
       "x^2 + y^2\n",
       "```"
      ],
      "text/plain": [
       "function(x,y) x^2+y^2\n",
       "<environment: 0x56298d7ebce0>"
      ]
     },
     "metadata": {},
     "output_type": "display_data"
    },
    {
     "data": {
      "text/html": [
       "13"
      ],
      "text/latex": [
       "13"
      ],
      "text/markdown": [
       "13"
      ],
      "text/plain": [
       "[1] 13"
      ]
     },
     "metadata": {},
     "output_type": "display_data"
    }
   ],
   "source": [
    "square <- function () function(x,y) x^2+y^2\n",
    "square()\n",
    "square()(2,3)"
   ]
  },
  {
   "cell_type": "markdown",
   "id": "9325816d-605b-44df-aeef-466c1aae78e5",
   "metadata": {},
   "source": [
    "#### *function incapsulation*"
   ]
  },
  {
   "cell_type": "code",
   "execution_count": 4,
   "id": "c02e39f0-b800-4e17-bd96-83f9bda275da",
   "metadata": {},
   "outputs": [
    {
     "data": {
      "text/html": [
       "1"
      ],
      "text/latex": [
       "1"
      ],
      "text/markdown": [
       "1"
      ],
      "text/plain": [
       "[1] 1"
      ]
     },
     "metadata": {},
     "output_type": "display_data"
    },
    {
     "data": {
      "text/html": [
       "-1"
      ],
      "text/latex": [
       "-1"
      ],
      "text/markdown": [
       "-1"
      ],
      "text/plain": [
       "[1] -1"
      ]
     },
     "metadata": {},
     "output_type": "display_data"
    }
   ],
   "source": [
    "f <- function(x) {\n",
    "    g <- function(y) if (y > 0) 1 else if (y < 0) -1 else 0\n",
    "    sapply(x,g)\n",
    "}\n",
    "f(1)\n",
    "f(pi*-1)"
   ]
  },
  {
   "cell_type": "markdown",
   "id": "9fd2c6f8-e300-49bf-8aa2-b3977e9920f0",
   "metadata": {},
   "source": [
    "#### *function descriptions*"
   ]
  },
  {
   "cell_type": "code",
   "execution_count": 5,
   "id": "6902f134-66f4-426b-bbdf-2cb3015ad488",
   "metadata": {},
   "outputs": [
    {
     "data": {
      "text/html": [
       "<pre class=language-r><code>function (x, na.rm = FALSE) \n",
       "sqrt(var(if (is.vector(x) || is.factor(x)) x else as.double(x), \n",
       "<span style=white-space:pre-wrap>    na.rm = na.rm))</span></code></pre>"
      ],
      "text/latex": [
       "\\begin{minted}{r}\n",
       "function (x, na.rm = FALSE) \n",
       "sqrt(var(if (is.vector(x) \\textbar{}\\textbar{} is.factor(x)) x else as.double(x), \n",
       "    na.rm = na.rm))\n",
       "\\end{minted}"
      ],
      "text/markdown": [
       "```r\n",
       "function (x, na.rm = FALSE) \n",
       "sqrt(var(if (is.vector(x) || is.factor(x)) x else as.double(x), \n",
       "    na.rm = na.rm))\n",
       "```"
      ],
      "text/plain": [
       "function (x, na.rm = FALSE) \n",
       "sqrt(var(if (is.vector(x) || is.factor(x)) x else as.double(x), \n",
       "    na.rm = na.rm))\n",
       "<bytecode: 0x56298ee92480>\n",
       "<environment: namespace:stats>"
      ]
     },
     "metadata": {},
     "output_type": "display_data"
    },
    {
     "data": {
      "text/html": [
       "<pre class=language-r><code>function (x, na.rm = FALSE) \n",
       "sqrt(var(if (is.vector(x) || is.factor(x)) x else as.double(x), \n",
       "<span style=white-space:pre-wrap>    na.rm = na.rm))</span></code></pre>"
      ],
      "text/latex": [
       "\\begin{minted}{r}\n",
       "function (x, na.rm = FALSE) \n",
       "sqrt(var(if (is.vector(x) \\textbar{}\\textbar{} is.factor(x)) x else as.double(x), \n",
       "    na.rm = na.rm))\n",
       "\\end{minted}"
      ],
      "text/markdown": [
       "```r\n",
       "function (x, na.rm = FALSE) \n",
       "sqrt(var(if (is.vector(x) || is.factor(x)) x else as.double(x), \n",
       "    na.rm = na.rm))\n",
       "```"
      ],
      "text/plain": [
       "function (x, na.rm = FALSE) \n",
       "sqrt(var(if (is.vector(x) || is.factor(x)) x else as.double(x), \n",
       "    na.rm = na.rm))\n",
       "<bytecode: 0x56298ee92480>\n",
       "<environment: namespace:stats>"
      ]
     },
     "metadata": {},
     "output_type": "display_data"
    },
    {
     "data": {
      "text/plain": [
       "no methods found"
      ]
     },
     "metadata": {},
     "output_type": "display_data"
    },
    {
     "name": "stderr",
     "output_type": "stream",
     "text": [
      "Warning message in .S3methods(generic.function, class, envir):\n",
      "“функция 'var', видимо, не S3-общая; найдены функции, похожие на методы S3”\n"
     ]
    },
    {
     "data": {
      "text/plain": [
       "[1] var.test          var.test.default* var.test.formula*\n",
       "see '?methods' for accessing help and source code"
      ]
     },
     "metadata": {},
     "output_type": "display_data"
    },
    {
     "data": {
      "text/html": [
       "<pre class=language-r><code>function (x, na.rm = FALSE) \n",
       "sqrt(var(if (is.vector(x) || is.factor(x)) x else as.double(x), \n",
       "<span style=white-space:pre-wrap>    na.rm = na.rm))</span></code></pre>"
      ],
      "text/latex": [
       "\\begin{minted}{r}\n",
       "function (x, na.rm = FALSE) \n",
       "sqrt(var(if (is.vector(x) \\textbar{}\\textbar{} is.factor(x)) x else as.double(x), \n",
       "    na.rm = na.rm))\n",
       "\\end{minted}"
      ],
      "text/markdown": [
       "```r\n",
       "function (x, na.rm = FALSE) \n",
       "sqrt(var(if (is.vector(x) || is.factor(x)) x else as.double(x), \n",
       "    na.rm = na.rm))\n",
       "```"
      ],
      "text/plain": [
       "function (x, na.rm = FALSE) \n",
       "sqrt(var(if (is.vector(x) || is.factor(x)) x else as.double(x), \n",
       "    na.rm = na.rm))\n",
       "<bytecode: 0x56298ee92480>\n",
       "<environment: namespace:stats>"
      ]
     },
     "metadata": {},
     "output_type": "display_data"
    },
    {
     "data": {
      "text/html": [
       "<pre class=language-r><code>function (x, y = NULL, na.rm = FALSE, use) \n",
       "{\n",
       "<span style=white-space:pre-wrap>    if (missing(use)) </span>\n",
       "<span style=white-space:pre-wrap>        use &lt;- if (na.rm) </span>\n",
       "<span style=white-space:pre-wrap>            \"na.or.complete\"</span>\n",
       "<span style=white-space:pre-wrap>        else \"everything\"</span>\n",
       "<span style=white-space:pre-wrap>    na.method &lt;- pmatch(use, c(\"all.obs\", \"complete.obs\", \"pairwise.complete.obs\", </span>\n",
       "<span style=white-space:pre-wrap>        \"everything\", \"na.or.complete\"))</span>\n",
       "<span style=white-space:pre-wrap>    if (is.na(na.method)) </span>\n",
       "<span style=white-space:pre-wrap>        stop(\"invalid 'use' argument\")</span>\n",
       "<span style=white-space:pre-wrap>    if (is.data.frame(x)) </span>\n",
       "<span style=white-space:pre-wrap>        x &lt;- as.matrix(x)</span>\n",
       "<span style=white-space:pre-wrap>    else stopifnot(is.atomic(x))</span>\n",
       "<span style=white-space:pre-wrap>    if (is.data.frame(y)) </span>\n",
       "<span style=white-space:pre-wrap>        y &lt;- as.matrix(y)</span>\n",
       "<span style=white-space:pre-wrap>    else stopifnot(is.atomic(y))</span>\n",
       "<span style=white-space:pre-wrap>    .Call(C_cov, x, y, na.method, FALSE)</span>\n",
       "}</code></pre>"
      ],
      "text/latex": [
       "\\begin{minted}{r}\n",
       "function (x, y = NULL, na.rm = FALSE, use) \n",
       "\\{\n",
       "    if (missing(use)) \n",
       "        use <- if (na.rm) \n",
       "            \"na.or.complete\"\n",
       "        else \"everything\"\n",
       "    na.method <- pmatch(use, c(\"all.obs\", \"complete.obs\", \"pairwise.complete.obs\", \n",
       "        \"everything\", \"na.or.complete\"))\n",
       "    if (is.na(na.method)) \n",
       "        stop(\"invalid 'use' argument\")\n",
       "    if (is.data.frame(x)) \n",
       "        x <- as.matrix(x)\n",
       "    else stopifnot(is.atomic(x))\n",
       "    if (is.data.frame(y)) \n",
       "        y <- as.matrix(y)\n",
       "    else stopifnot(is.atomic(y))\n",
       "    .Call(C\\_cov, x, y, na.method, FALSE)\n",
       "\\}\n",
       "\\end{minted}"
      ],
      "text/markdown": [
       "```r\n",
       "function (x, y = NULL, na.rm = FALSE, use) \n",
       "{\n",
       "    if (missing(use)) \n",
       "        use <- if (na.rm) \n",
       "            \"na.or.complete\"\n",
       "        else \"everything\"\n",
       "    na.method <- pmatch(use, c(\"all.obs\", \"complete.obs\", \"pairwise.complete.obs\", \n",
       "        \"everything\", \"na.or.complete\"))\n",
       "    if (is.na(na.method)) \n",
       "        stop(\"invalid 'use' argument\")\n",
       "    if (is.data.frame(x)) \n",
       "        x <- as.matrix(x)\n",
       "    else stopifnot(is.atomic(x))\n",
       "    if (is.data.frame(y)) \n",
       "        y <- as.matrix(y)\n",
       "    else stopifnot(is.atomic(y))\n",
       "    .Call(C_cov, x, y, na.method, FALSE)\n",
       "}\n",
       "```"
      ],
      "text/plain": [
       "function (x, y = NULL, na.rm = FALSE, use) \n",
       "{\n",
       "    if (missing(use)) \n",
       "        use <- if (na.rm) \n",
       "            \"na.or.complete\"\n",
       "        else \"everything\"\n",
       "    na.method <- pmatch(use, c(\"all.obs\", \"complete.obs\", \"pairwise.complete.obs\", \n",
       "        \"everything\", \"na.or.complete\"))\n",
       "    if (is.na(na.method)) \n",
       "        stop(\"invalid 'use' argument\")\n",
       "    if (is.data.frame(x)) \n",
       "        x <- as.matrix(x)\n",
       "    else stopifnot(is.atomic(x))\n",
       "    if (is.data.frame(y)) \n",
       "        y <- as.matrix(y)\n",
       "    else stopifnot(is.atomic(y))\n",
       "    .Call(C_cov, x, y, na.method, FALSE)\n",
       "}\n",
       "<bytecode: 0x56298f2ec2f0>\n",
       "<environment: namespace:stats>"
      ]
     },
     "metadata": {},
     "output_type": "display_data"
    }
   ],
   "source": [
    "sd\n",
    "(sd)\n",
    "methods(sd)\n",
    "methods(var)\n",
    "`sd`\n",
    "`var`"
   ]
  },
  {
   "cell_type": "markdown",
   "id": "36af6a5f-b755-4168-8ed5-a631c4a93050",
   "metadata": {},
   "source": [
    "#### *return values*"
   ]
  },
  {
   "cell_type": "code",
   "execution_count": 6,
   "id": "3ba1923e-6245-49f4-9051-bfdbc79f5755",
   "metadata": {},
   "outputs": [],
   "source": [
    "has_na <- function(v) {\n",
    "    for (k in v) if (is.na(k)) return(TRUE)\n",
    "    return(FALSE)\n",
    "}\n",
    "\n",
    "#without return keyword R will call the last calculated expression\n",
    "has_na <- function(v) any(is.na(k))"
   ]
  },
  {
   "cell_type": "markdown",
   "id": "000d40fe-a4fb-4f6e-bb48-4e99c96002e0",
   "metadata": {},
   "source": [
    "#### *default arguments and their names*"
   ]
  },
  {
   "cell_type": "code",
   "execution_count": 7,
   "id": "51aa0b80-2c05-4f74-b864-7d88295dd39d",
   "metadata": {},
   "outputs": [
    {
     "data": {
      "text/html": [
       "1"
      ],
      "text/latex": [
       "1"
      ],
      "text/markdown": [
       "1"
      ],
      "text/plain": [
       "[1] 1"
      ]
     },
     "metadata": {},
     "output_type": "display_data"
    },
    {
     "data": {
      "text/html": [
       "<style>\n",
       ".list-inline {list-style: none; margin:0; padding: 0}\n",
       ".list-inline>li {display: inline-block}\n",
       ".list-inline>li:not(:last-child)::after {content: \"\\00b7\"; padding: 0 .5ex}\n",
       "</style>\n",
       "<ol class=list-inline><li>1</li><li>1.4</li><li>1.8</li><li>2.2</li><li>2.6</li><li>3</li><li>3.4</li><li>3.8</li><li>4.2</li><li>4.6</li><li>5</li></ol>\n"
      ],
      "text/latex": [
       "\\begin{enumerate*}\n",
       "\\item 1\n",
       "\\item 1.4\n",
       "\\item 1.8\n",
       "\\item 2.2\n",
       "\\item 2.6\n",
       "\\item 3\n",
       "\\item 3.4\n",
       "\\item 3.8\n",
       "\\item 4.2\n",
       "\\item 4.6\n",
       "\\item 5\n",
       "\\end{enumerate*}\n"
      ],
      "text/markdown": [
       "1. 1\n",
       "2. 1.4\n",
       "3. 1.8\n",
       "4. 2.2\n",
       "5. 2.6\n",
       "6. 3\n",
       "7. 3.4\n",
       "8. 3.8\n",
       "9. 4.2\n",
       "10. 4.6\n",
       "11. 5\n",
       "\n",
       "\n"
      ],
      "text/plain": [
       " [1] 1.0 1.4 1.8 2.2 2.6 3.0 3.4 3.8 4.2 4.6 5.0"
      ]
     },
     "metadata": {},
     "output_type": "display_data"
    }
   ],
   "source": [
    "seq()\n",
    "#seq(from = 1, to = 1, b = ((to - from)/(length.out -1)), length.out = NULL, along.with = NULL, ...)\n",
    "seq(1, 5, length.out = 11)"
   ]
  },
  {
   "cell_type": "markdown",
   "id": "da93470f-e3e4-419e-b64b-cf07446c6113",
   "metadata": {},
   "source": [
    "#### *Rules of argument matching*\n",
    "\n",
    "- First stage: reading exact arguments (arg2, optional_arg)\n",
    "- Second stage: reading partially exact arguments (but until Ellipsis '...') (remove)\n",
    "- Third stage: reading arguments position-wise (arg1)\n",
    "- Unrecognized elements are moved to '...' (like do_magic)"
   ]
  },
  {
   "cell_type": "code",
   "execution_count": 8,
   "id": "d2c6cfdd-52a9-416d-aaeb-b49f21b752f4",
   "metadata": {},
   "outputs": [
    {
     "data": {
      "text/plain": [
       "NULL"
      ]
     },
     "metadata": {},
     "output_type": "display_data"
    }
   ],
   "source": [
    "f <- function(arg1, arg2, remove_NA = TRUE, ..., optional_arg) {}\n",
    "f(1, arg2 = 2, remove = F, optional_arg = 42, do_magic = TRUE)"
   ]
  },
  {
   "cell_type": "markdown",
   "id": "0a5c0d91-84a0-4ae9-a4d8-3c94fb6e222a",
   "metadata": {},
   "source": [
    "#### *Ellipsis ('...') usage, argument nesting*\n",
    "\n",
    "- In case of any number of aguments\n",
    "- Argument Nesting. It occurs when the function does not have a given argument by default, so it is stored, waiting to be called by functions inside the given function"
   ]
  },
  {
   "cell_type": "code",
   "execution_count": 9,
   "id": "c7bf3de5-d83c-4db3-b34b-68052ec43951",
   "metadata": {},
   "outputs": [
    {
     "data": {
      "text/plain": [
       "0.3333333 with absolute error < 3.7e-15"
      ]
     },
     "metadata": {},
     "output_type": "display_data"
    },
    {
     "data": {
      "text/plain": [
       "0.25 with absolute error < 2.8e-15"
      ]
     },
     "metadata": {},
     "output_type": "display_data"
    }
   ],
   "source": [
    "f <- function(x, pow = 2) x^pow\n",
    "integrate (f, 0, 1)\n",
    "#Argument nesting:\n",
    "integrate(f,0,1, pow = 3)\n",
    "#the magic of argument nesting!"
   ]
  },
  {
   "cell_type": "markdown",
   "id": "5a1ea2bc-37cd-4228-a1ac-23fe46f94937",
   "metadata": {},
   "source": [
    "#### *Creating binary operators*\n",
    "- Binary operators **%in%** **+** **\\*** - basic multiplication **%\\*\\%** - matrix mult. etc etc"
   ]
  },
  {
   "cell_type": "code",
   "execution_count": 10,
   "id": "fc53205d-7b46-4da1-a549-096a3fb3017b",
   "metadata": {},
   "outputs": [
    {
     "data": {
      "text/html": [
       "<style>\n",
       ".list-inline {list-style: none; margin:0; padding: 0}\n",
       ".list-inline>li {display: inline-block}\n",
       ".list-inline>li:not(:last-child)::after {content: \"\\00b7\"; padding: 0 .5ex}\n",
       "</style>\n",
       "<ol class=list-inline><li>FALSE</li><li>FALSE</li><li>FALSE</li><li>TRUE</li><li>TRUE</li></ol>\n"
      ],
      "text/latex": [
       "\\begin{enumerate*}\n",
       "\\item FALSE\n",
       "\\item FALSE\n",
       "\\item FALSE\n",
       "\\item TRUE\n",
       "\\item TRUE\n",
       "\\end{enumerate*}\n"
      ],
      "text/markdown": [
       "1. FALSE\n",
       "2. FALSE\n",
       "3. FALSE\n",
       "4. TRUE\n",
       "5. TRUE\n",
       "\n",
       "\n"
      ],
      "text/plain": [
       "[1] FALSE FALSE FALSE  TRUE  TRUE"
      ]
     },
     "metadata": {},
     "output_type": "display_data"
    }
   ],
   "source": [
    "'%nin%' <- function(b,c) !(b %in% c)\n",
    "1:5 %nin% 1:3"
   ]
  },
  {
   "cell_type": "code",
   "execution_count": 11,
   "id": "25fa5e75-ea72-4d24-9f5b-ec8069059939",
   "metadata": {},
   "outputs": [
    {
     "name": "stderr",
     "output_type": "stream",
     "text": [
      "Warning message in 1:2 + 1:3:\n",
      "“длина большего объекта не является произведением длины меньшего объекта”\n"
     ]
    },
    {
     "data": {
      "text/html": [
       "<style>\n",
       ".list-inline {list-style: none; margin:0; padding: 0}\n",
       ".list-inline>li {display: inline-block}\n",
       ".list-inline>li:not(:last-child)::after {content: \"\\00b7\"; padding: 0 .5ex}\n",
       "</style>\n",
       "<ol class=list-inline><li>2</li><li>4</li><li>4</li></ol>\n"
      ],
      "text/latex": [
       "\\begin{enumerate*}\n",
       "\\item 2\n",
       "\\item 4\n",
       "\\item 4\n",
       "\\end{enumerate*}\n"
      ],
      "text/markdown": [
       "1. 2\n",
       "2. 4\n",
       "3. 4\n",
       "\n",
       "\n"
      ],
      "text/plain": [
       "[1] 2 4 4"
      ]
     },
     "metadata": {},
     "output_type": "display_data"
    }
   ],
   "source": [
    "1:2+1:3"
   ]
  },
  {
   "cell_type": "code",
   "execution_count": 12,
   "id": "b213a60f-e7e2-4ade-9205-0250d9b27224",
   "metadata": {},
   "outputs": [
    {
     "data": {
      "text/html": [
       "<style>\n",
       ".list-inline {list-style: none; margin:0; padding: 0}\n",
       ".list-inline>li {display: inline-block}\n",
       ".list-inline>li:not(:last-child)::after {content: \"\\00b7\"; padding: 0 .5ex}\n",
       "</style>\n",
       "<ol class=list-inline><li>11</li><li>&lt;NA&gt;</li><li>&lt;NA&gt;</li><li>&lt;NA&gt;</li><li>&lt;NA&gt;</li><li>&lt;NA&gt;</li><li>&lt;NA&gt;</li></ol>\n"
      ],
      "text/latex": [
       "\\begin{enumerate*}\n",
       "\\item 11\n",
       "\\item <NA>\n",
       "\\item <NA>\n",
       "\\item <NA>\n",
       "\\item <NA>\n",
       "\\item <NA>\n",
       "\\item <NA>\n",
       "\\end{enumerate*}\n"
      ],
      "text/markdown": [
       "1. 11\n",
       "2. &lt;NA&gt;\n",
       "3. &lt;NA&gt;\n",
       "4. &lt;NA&gt;\n",
       "5. &lt;NA&gt;\n",
       "6. &lt;NA&gt;\n",
       "7. &lt;NA&gt;\n",
       "\n",
       "\n"
      ],
      "text/plain": [
       "[1] 11 NA NA NA NA NA NA"
      ]
     },
     "metadata": {},
     "output_type": "display_data"
    }
   ],
   "source": [
    "#Homework: create a '+' operator that ignores \"subscription rule\"\n",
    "\n",
    "\"%+%\" <- function(x, y) {\n",
    "    length(x) <- length(y) <- max(c(length(x),length(y)))\n",
    "    x+y\n",
    "}\n",
    "\n",
    "1:7 %+% 10"
   ]
  },
  {
   "cell_type": "markdown",
   "id": "2070d946-6811-4836-94e9-be51c07ef972",
   "metadata": {},
   "source": [
    "#### *Homework*"
   ]
  },
  {
   "cell_type": "code",
   "execution_count": 13,
   "id": "f83b3d68-238d-4938-a80d-dc47ba04d885",
   "metadata": {},
   "outputs": [
    {
     "data": {
      "text/html": [
       "<pre class=language-r><code>function (data = NA, nrow = 1, ncol = 1, byrow = FALSE, dimnames = NULL) \n",
       "{\n",
       "<span style=white-space:pre-wrap>    if (is.object(data) || !is.atomic(data)) </span>\n",
       "<span style=white-space:pre-wrap>        data &lt;- as.vector(data)</span>\n",
       "<span style=white-space:pre-wrap>    .Internal(matrix(data, nrow, ncol, byrow, dimnames, missing(nrow), </span>\n",
       "<span style=white-space:pre-wrap>        missing(ncol)))</span>\n",
       "}</code></pre>"
      ],
      "text/latex": [
       "\\begin{minted}{r}\n",
       "function (data = NA, nrow = 1, ncol = 1, byrow = FALSE, dimnames = NULL) \n",
       "\\{\n",
       "    if (is.object(data) \\textbar{}\\textbar{} !is.atomic(data)) \n",
       "        data <- as.vector(data)\n",
       "    .Internal(matrix(data, nrow, ncol, byrow, dimnames, missing(nrow), \n",
       "        missing(ncol)))\n",
       "\\}\n",
       "\\end{minted}"
      ],
      "text/markdown": [
       "```r\n",
       "function (data = NA, nrow = 1, ncol = 1, byrow = FALSE, dimnames = NULL) \n",
       "{\n",
       "    if (is.object(data) || !is.atomic(data)) \n",
       "        data <- as.vector(data)\n",
       "    .Internal(matrix(data, nrow, ncol, byrow, dimnames, missing(nrow), \n",
       "        missing(ncol)))\n",
       "}\n",
       "```"
      ],
      "text/plain": [
       "function (data = NA, nrow = 1, ncol = 1, byrow = FALSE, dimnames = NULL) \n",
       "{\n",
       "    if (is.object(data) || !is.atomic(data)) \n",
       "        data <- as.vector(data)\n",
       "    .Internal(matrix(data, nrow, ncol, byrow, dimnames, missing(nrow), \n",
       "        missing(ncol)))\n",
       "}\n",
       "<bytecode: 0x56298a39bb98>\n",
       "<environment: namespace:base>"
      ]
     },
     "metadata": {},
     "output_type": "display_data"
    },
    {
     "data": {
      "text/html": [
       "<pre class=language-r><code>function (..., sep = \" \", collapse = NULL, recycle0 = FALSE) \n",
       ".Internal(paste(list(...), sep, collapse, recycle0))</code></pre>"
      ],
      "text/latex": [
       "\\begin{minted}{r}\n",
       "function (..., sep = \" \", collapse = NULL, recycle0 = FALSE) \n",
       ".Internal(paste(list(...), sep, collapse, recycle0))\n",
       "\\end{minted}"
      ],
      "text/markdown": [
       "```r\n",
       "function (..., sep = \" \", collapse = NULL, recycle0 = FALSE) \n",
       ".Internal(paste(list(...), sep, collapse, recycle0))\n",
       "```"
      ],
      "text/plain": [
       "function (..., sep = \" \", collapse = NULL, recycle0 = FALSE) \n",
       ".Internal(paste(list(...), sep, collapse, recycle0))\n",
       "<bytecode: 0x56298a06b078>\n",
       "<environment: namespace:base>"
      ]
     },
     "metadata": {},
     "output_type": "display_data"
    },
    {
     "data": {
      "text/html": [
       "<pre class=language-r><code>function (X, FUN, ...) \n",
       "{\n",
       "<span style=white-space:pre-wrap>    FUN &lt;- match.fun(FUN)</span>\n",
       "<span style=white-space:pre-wrap>    if (!is.vector(X) || is.object(X)) </span>\n",
       "<span style=white-space:pre-wrap>        X &lt;- as.list(X)</span>\n",
       "<span style=white-space:pre-wrap>    .Internal(lapply(X, FUN))</span>\n",
       "}</code></pre>"
      ],
      "text/latex": [
       "\\begin{minted}{r}\n",
       "function (X, FUN, ...) \n",
       "\\{\n",
       "    FUN <- match.fun(FUN)\n",
       "    if (!is.vector(X) \\textbar{}\\textbar{} is.object(X)) \n",
       "        X <- as.list(X)\n",
       "    .Internal(lapply(X, FUN))\n",
       "\\}\n",
       "\\end{minted}"
      ],
      "text/markdown": [
       "```r\n",
       "function (X, FUN, ...) \n",
       "{\n",
       "    FUN <- match.fun(FUN)\n",
       "    if (!is.vector(X) || is.object(X)) \n",
       "        X <- as.list(X)\n",
       "    .Internal(lapply(X, FUN))\n",
       "}\n",
       "```"
      ],
      "text/plain": [
       "function (X, FUN, ...) \n",
       "{\n",
       "    FUN <- match.fun(FUN)\n",
       "    if (!is.vector(X) || is.object(X)) \n",
       "        X <- as.list(X)\n",
       "    .Internal(lapply(X, FUN))\n",
       "}\n",
       "<bytecode: 0x562989e99418>\n",
       "<environment: namespace:base>"
      ]
     },
     "metadata": {},
     "output_type": "display_data"
    },
    {
     "data": {
      "text/html": [
       "<pre class=language-r><code>function (x, decreasing = FALSE, ...) \n",
       "{\n",
       "<span style=white-space:pre-wrap>    if (!is.logical(decreasing) || length(decreasing) != 1L) </span>\n",
       "<span style=white-space:pre-wrap>        stop(\"'decreasing' must be a length-1 logical vector.\\nDid you intend to set 'partial'?\")</span>\n",
       "<span style=white-space:pre-wrap>    UseMethod(\"sort\")</span>\n",
       "}</code></pre>"
      ],
      "text/latex": [
       "\\begin{minted}{r}\n",
       "function (x, decreasing = FALSE, ...) \n",
       "\\{\n",
       "    if (!is.logical(decreasing) \\textbar{}\\textbar{} length(decreasing) != 1L) \n",
       "        stop(\"'decreasing' must be a length-1 logical vector.\\textbackslash{}nDid you intend to set 'partial'?\")\n",
       "    UseMethod(\"sort\")\n",
       "\\}\n",
       "\\end{minted}"
      ],
      "text/markdown": [
       "```r\n",
       "function (x, decreasing = FALSE, ...) \n",
       "{\n",
       "    if (!is.logical(decreasing) || length(decreasing) != 1L) \n",
       "        stop(\"'decreasing' must be a length-1 logical vector.\\nDid you intend to set 'partial'?\")\n",
       "    UseMethod(\"sort\")\n",
       "}\n",
       "```"
      ],
      "text/plain": [
       "function (x, decreasing = FALSE, ...) \n",
       "{\n",
       "    if (!is.logical(decreasing) || length(decreasing) != 1L) \n",
       "        stop(\"'decreasing' must be a length-1 logical vector.\\nDid you intend to set 'partial'?\")\n",
       "    UseMethod(\"sort\")\n",
       "}\n",
       "<bytecode: 0x56298b78f0f8>\n",
       "<environment: namespace:base>"
      ]
     },
     "metadata": {},
     "output_type": "display_data"
    }
   ],
   "source": [
    "`matrix`\n",
    "`paste`\n",
    "`lapply`\n",
    "`sort`"
   ]
  },
  {
   "cell_type": "code",
   "execution_count": 14,
   "id": "e80fc647-6ecf-432b-ba34-33489e3bc745",
   "metadata": {},
   "outputs": [],
   "source": [
    "decorate_string <- function(pattern, ...) { \n",
    "    revpattern <- paste(rev(strsplit(pattern, \"\")[[1]]), collapse = \"\")\n",
    "    print(revpattern)\n",
    "    paste0(pattern, paste(...), revpattern)\n",
    "}"
   ]
  },
  {
   "cell_type": "code",
   "execution_count": 15,
   "id": "67790234-50b6-4fca-903c-42153574a067",
   "metadata": {},
   "outputs": [
    {
     "data": {
      "text/html": [
       "<pre class=language-r><code>function (..., sep = \" \", collapse = NULL, recycle0 = FALSE) \n",
       ".Internal(paste(list(...), sep, collapse, recycle0))</code></pre>"
      ],
      "text/latex": [
       "\\begin{minted}{r}\n",
       "function (..., sep = \" \", collapse = NULL, recycle0 = FALSE) \n",
       ".Internal(paste(list(...), sep, collapse, recycle0))\n",
       "\\end{minted}"
      ],
      "text/markdown": [
       "```r\n",
       "function (..., sep = \" \", collapse = NULL, recycle0 = FALSE) \n",
       ".Internal(paste(list(...), sep, collapse, recycle0))\n",
       "```"
      ],
      "text/plain": [
       "function (..., sep = \" \", collapse = NULL, recycle0 = FALSE) \n",
       ".Internal(paste(list(...), sep, collapse, recycle0))\n",
       "<bytecode: 0x56298a06b078>\n",
       "<environment: namespace:base>"
      ]
     },
     "metadata": {},
     "output_type": "display_data"
    },
    {
     "name": "stdout",
     "output_type": "stream",
     "text": [
      "[1] \":.\"\n"
     ]
    },
    {
     "data": {
      "text/html": [
       "<style>\n",
       ".list-inline {list-style: none; margin:0; padding: 0}\n",
       ".list-inline>li {display: inline-block}\n",
       ".list-inline>li:not(:last-child)::after {content: \"\\00b7\"; padding: 0 .5ex}\n",
       "</style>\n",
       "<ol class=list-inline><li>'.:1&amp;3&amp;5:.'</li><li>'.:2&amp;4&amp;6:.'</li></ol>\n"
      ],
      "text/latex": [
       "\\begin{enumerate*}\n",
       "\\item '.:1\\&3\\&5:.'\n",
       "\\item '.:2\\&4\\&6:.'\n",
       "\\end{enumerate*}\n"
      ],
      "text/markdown": [
       "1. '.:1&amp;3&amp;5:.'\n",
       "2. '.:2&amp;4&amp;6:.'\n",
       "\n",
       "\n"
      ],
      "text/plain": [
       "[1] \".:1&3&5:.\" \".:2&4&6:.\""
      ]
     },
     "metadata": {},
     "output_type": "display_data"
    },
    {
     "name": "stdout",
     "output_type": "stream",
     "text": [
      "[1] \"321\"\n"
     ]
    },
    {
     "data": {
      "text/html": [
       "<style>\n",
       ".list-inline {list-style: none; margin:0; padding: 0}\n",
       ".list-inline>li {display: inline-block}\n",
       ".list-inline>li:not(:last-child)::after {content: \"\\00b7\"; padding: 0 .5ex}\n",
       "</style>\n",
       "<ol class=list-inline><li>'123abc321'</li><li>'123def321'</li></ol>\n"
      ],
      "text/latex": [
       "\\begin{enumerate*}\n",
       "\\item '123abc321'\n",
       "\\item '123def321'\n",
       "\\end{enumerate*}\n"
      ],
      "text/markdown": [
       "1. '123abc321'\n",
       "2. '123def321'\n",
       "\n",
       "\n"
      ],
      "text/plain": [
       "[1] \"123abc321\" \"123def321\""
      ]
     },
     "metadata": {},
     "output_type": "display_data"
    }
   ],
   "source": [
    "`paste`\n",
    "decorate_string(pattern = \".:\", 1:2, 3:4, 5:6, sep = \"&\")\n",
    "decorate_string(pattern = \"123\", c(\"abc\", \"def\"))\n",
    "#123abc def321"
   ]
  },
  {
   "cell_type": "markdown",
   "id": "3d872a95-a648-44ee-a9b5-bb0f651cb4de",
   "metadata": {},
   "source": [
    "#### *Homework*"
   ]
  },
  {
   "cell_type": "markdown",
   "id": "016f6de9-682c-44db-b3d4-a352b2fe2816",
   "metadata": {},
   "source": [
    "#### The Great Casino\n"
   ]
  },
  {
   "cell_type": "code",
   "execution_count": 73,
   "id": "a6c151a0-e954-484d-aa2e-2b181871a414",
   "metadata": {},
   "outputs": [
    {
     "data": {
      "text/html": [
       "<style>\n",
       ".list-inline {list-style: none; margin:0; padding: 0}\n",
       ".list-inline>li {display: inline-block}\n",
       ".list-inline>li:not(:last-child)::after {content: \"\\00b7\"; padding: 0 .5ex}\n",
       "</style>\n",
       "<ol class=list-inline><li>'8 of Spades'</li><li>'2 of Hearts'</li><li>'4 of Spades'</li></ol>\n"
      ],
      "text/latex": [
       "\\begin{enumerate*}\n",
       "\\item '8 of Spades'\n",
       "\\item '2 of Hearts'\n",
       "\\item '4 of Spades'\n",
       "\\end{enumerate*}\n"
      ],
      "text/markdown": [
       "1. '8 of Spades'\n",
       "2. '2 of Hearts'\n",
       "3. '4 of Spades'\n",
       "\n",
       "\n"
      ],
      "text/plain": [
       "[1] \"8 of Spades\" \"2 of Hearts\" \"4 of Spades\""
      ]
     },
     "metadata": {},
     "output_type": "display_data"
    },
    {
     "data": {
      "text/html": [
       "<style>\n",
       ".list-inline {list-style: none; margin:0; padding: 0}\n",
       ".list-inline>li {display: inline-block}\n",
       ".list-inline>li:not(:last-child)::after {content: \"\\00b7\"; padding: 0 .5ex}\n",
       "</style>\n",
       "<ol class=list-inline><li>'Heads'</li><li>'Tales'</li><li>'Heads'</li><li>'Heads'</li></ol>\n"
      ],
      "text/latex": [
       "\\begin{enumerate*}\n",
       "\\item 'Heads'\n",
       "\\item 'Tales'\n",
       "\\item 'Heads'\n",
       "\\item 'Heads'\n",
       "\\end{enumerate*}\n"
      ],
      "text/markdown": [
       "1. 'Heads'\n",
       "2. 'Tales'\n",
       "3. 'Heads'\n",
       "4. 'Heads'\n",
       "\n",
       "\n"
      ],
      "text/plain": [
       "[1] \"Heads\" \"Tales\" \"Heads\" \"Heads\""
      ]
     },
     "metadata": {},
     "output_type": "display_data"
    },
    {
     "data": {
      "text/html": [
       "<style>\n",
       ".list-inline {list-style: none; margin:0; padding: 0}\n",
       ".list-inline>li {display: inline-block}\n",
       ".list-inline>li:not(:last-child)::after {content: \"\\00b7\"; padding: 0 .5ex}\n",
       "</style>\n",
       "<ol class=list-inline><li>1</li><li>2</li><li>2</li><li>3</li><li>3</li><li>1</li></ol>\n"
      ],
      "text/latex": [
       "\\begin{enumerate*}\n",
       "\\item 1\n",
       "\\item 2\n",
       "\\item 2\n",
       "\\item 3\n",
       "\\item 3\n",
       "\\item 1\n",
       "\\end{enumerate*}\n"
      ],
      "text/markdown": [
       "1. 1\n",
       "2. 2\n",
       "3. 2\n",
       "4. 3\n",
       "5. 3\n",
       "6. 1\n",
       "\n",
       "\n"
      ],
      "text/plain": [
       "[1] 1 2 2 3 3 1"
      ]
     },
     "metadata": {},
     "output_type": "display_data"
    },
    {
     "data": {
      "text/html": [
       "'11'"
      ],
      "text/latex": [
       "'11'"
      ],
      "text/markdown": [
       "'11'"
      ],
      "text/plain": [
       "[1] \"11\""
      ]
     },
     "metadata": {},
     "output_type": "display_data"
    }
   ],
   "source": [
    "values <- c(\"Ace\", 2:10, \"Jack\", \"Queen\", \"King\")\n",
    "suits <- c(\"Clubs\",\"Diamonds\",\"Hearts\",\"Spades\")\n",
    "card_deck <- outer(values,suits,paste, sep = \" of \") #tensor multiplication\n",
    "coin_deck <- c(\"Heads\", \"Tales\")\n",
    "dice_deck <- 1:6\n",
    "roulette_deck <- c(\"ZERO\", 1:36)\n",
    "#Function factory\n",
    "generator <- function(set) function(n) sample(set, n, replace = T)\n",
    "    \n",
    "card_generator <- generator(card_deck)\n",
    "coin_generator <- generator(coin_deck)\n",
    "dice_generator <- generator(dice_deck)\n",
    "roulette_generator <- generator(roulette_deck)\n",
    "\n",
    "card_generator(3)\n",
    "coin_generator(4)\n",
    "dice_generator(6)\n",
    "roulette_generator(1)"
   ]
  },
  {
   "cell_type": "markdown",
   "id": "d6e338cb-86c8-477f-8b4e-cebc436b581a",
   "metadata": {},
   "source": [
    "### HOMEWORK (roulette)"
   ]
  },
  {
   "cell_type": "code",
   "execution_count": 130,
   "id": "5ac8c8d6-fd1f-4c31-957e-58112e8a9c12",
   "metadata": {},
   "outputs": [
    {
     "data": {
      "text/html": [
       "<style>\n",
       ".list-inline {list-style: none; margin:0; padding: 0}\n",
       ".list-inline>li {display: inline-block}\n",
       ".list-inline>li:not(:last-child)::after {content: \"\\00b7\"; padding: 0 .5ex}\n",
       "</style>\n",
       "<ol class=list-inline><li>'8'</li><li>'15'</li><li>'9'</li></ol>\n"
      ],
      "text/latex": [
       "\\begin{enumerate*}\n",
       "\\item '8'\n",
       "\\item '15'\n",
       "\\item '9'\n",
       "\\end{enumerate*}\n"
      ],
      "text/markdown": [
       "1. '8'\n",
       "2. '15'\n",
       "3. '9'\n",
       "\n",
       "\n"
      ],
      "text/plain": [
       "[1] \"8\"  \"15\" \"9\" "
      ]
     },
     "metadata": {},
     "output_type": "display_data"
    },
    {
     "data": {
      "text/html": [
       "<style>\n",
       ".list-inline {list-style: none; margin:0; padding: 0}\n",
       ".list-inline>li {display: inline-block}\n",
       ".list-inline>li:not(:last-child)::after {content: \"\\00b7\"; padding: 0 .5ex}\n",
       "</style>\n",
       "<ol class=list-inline><li>'17'</li><li>'32'</li><li>'19'</li></ol>\n"
      ],
      "text/latex": [
       "\\begin{enumerate*}\n",
       "\\item '17'\n",
       "\\item '32'\n",
       "\\item '19'\n",
       "\\end{enumerate*}\n"
      ],
      "text/markdown": [
       "1. '17'\n",
       "2. '32'\n",
       "3. '19'\n",
       "\n",
       "\n"
      ],
      "text/plain": [
       "[1] \"17\" \"32\" \"19\""
      ]
     },
     "metadata": {},
     "output_type": "display_data"
    }
   ],
   "source": [
    "generator <- function(set) function(n) sample(set, n, replace = T, prob = rep(1/length(set), length(set)))\n",
    "roulette_values <- c(\"Zero!\", 1:36)\n",
    "rigged_roulette_deck <- c(\"ZERO\", 1:36, \"ZERO\")\n",
    "fair_roulette <- generator(fair_roulette_deck)\n",
    "rigged_roulette <- generator(rigged_roulette_deck)\n",
    "\n",
    "fair_roulette(3)\n",
    "rigged_roulette(3)"
   ]
  },
  {
   "cell_type": "code",
   "execution_count": 143,
   "id": "7ef4bcbb-8176-4a6e-ae13-9225b9fac519",
   "metadata": {},
   "outputs": [
    {
     "data": {
      "text/html": [
       "<style>\n",
       ".list-inline {list-style: none; margin:0; padding: 0}\n",
       ".list-inline>li {display: inline-block}\n",
       ".list-inline>li:not(:last-child)::after {content: \"\\00b7\"; padding: 0 .5ex}\n",
       "</style>\n",
       "<ol class=list-inline><li>'1'</li><li>'8'</li><li>'4'</li></ol>\n"
      ],
      "text/latex": [
       "\\begin{enumerate*}\n",
       "\\item '1'\n",
       "\\item '8'\n",
       "\\item '4'\n",
       "\\end{enumerate*}\n"
      ],
      "text/markdown": [
       "1. '1'\n",
       "2. '8'\n",
       "3. '4'\n",
       "\n",
       "\n"
      ],
      "text/plain": [
       "[1] \"1\" \"8\" \"4\""
      ]
     },
     "metadata": {},
     "output_type": "display_data"
    },
    {
     "data": {
      "text/html": [
       "<style>\n",
       ".list-inline {list-style: none; margin:0; padding: 0}\n",
       ".list-inline>li {display: inline-block}\n",
       ".list-inline>li:not(:last-child)::after {content: \"\\00b7\"; padding: 0 .5ex}\n",
       "</style>\n",
       "<ol class=list-inline><li>'30'</li><li>'30'</li><li>'29'</li></ol>\n"
      ],
      "text/latex": [
       "\\begin{enumerate*}\n",
       "\\item '30'\n",
       "\\item '30'\n",
       "\\item '29'\n",
       "\\end{enumerate*}\n"
      ],
      "text/markdown": [
       "1. '30'\n",
       "2. '30'\n",
       "3. '29'\n",
       "\n",
       "\n"
      ],
      "text/plain": [
       "[1] \"30\" \"30\" \"29\""
      ]
     },
     "metadata": {},
     "output_type": "display_data"
    }
   ],
   "source": [
    "generator <- function(set) function(n) sample(set, n, replace = T, prob = rep(  1/length(set), length(set)))\n",
    "roulette_values <- c(\"ZERO\", 1:36)\n",
    "\n",
    "fair_roulette <- generator(roulette_values)\n",
    "rigged_roulette <- generator(roulette_values)\n",
    "\n",
    "fair_roulette(3)\n",
    "rigged_roulette(3)"
   ]
  },
  {
   "cell_type": "code",
   "execution_count": 278,
   "id": "181ae759-2a11-47da-95c5-bc0961e2a73b",
   "metadata": {},
   "outputs": [
    {
     "data": {
      "text/html": [
       "1"
      ],
      "text/latex": [
       "1"
      ],
      "text/markdown": [
       "1"
      ],
      "text/plain": [
       "[1] 1"
      ]
     },
     "metadata": {},
     "output_type": "display_data"
    }
   ],
   "source": [
    "sum(c(1/19, rep(1/38, 36)))\n"
   ]
  },
  {
   "cell_type": "code",
   "execution_count": 273,
   "id": "2d271d04-2caf-439a-a724-c30bf7f66847",
   "metadata": {},
   "outputs": [
    {
     "data": {
      "text/html": [
       "<style>\n",
       ".list-inline {list-style: none; margin:0; padding: 0}\n",
       ".list-inline>li {display: inline-block}\n",
       ".list-inline>li:not(:last-child)::after {content: \"\\00b7\"; padding: 0 .5ex}\n",
       "</style>\n",
       "<ol class=list-inline><li>'7'</li><li>'18'</li><li>'6'</li><li>'1'</li><li>'18'</li><li>'13'</li><li>'14'</li><li>'22'</li><li>'8'</li><li>'24'</li></ol>\n"
      ],
      "text/latex": [
       "\\begin{enumerate*}\n",
       "\\item '7'\n",
       "\\item '18'\n",
       "\\item '6'\n",
       "\\item '1'\n",
       "\\item '18'\n",
       "\\item '13'\n",
       "\\item '14'\n",
       "\\item '22'\n",
       "\\item '8'\n",
       "\\item '24'\n",
       "\\end{enumerate*}\n"
      ],
      "text/markdown": [
       "1. '7'\n",
       "2. '18'\n",
       "3. '6'\n",
       "4. '1'\n",
       "5. '18'\n",
       "6. '13'\n",
       "7. '14'\n",
       "8. '22'\n",
       "9. '8'\n",
       "10. '24'\n",
       "\n",
       "\n"
      ],
      "text/plain": [
       " [1] \"7\"  \"18\" \"6\"  \"1\"  \"18\" \"13\" \"14\" \"22\" \"8\"  \"24\""
      ]
     },
     "metadata": {},
     "output_type": "display_data"
    },
    {
     "data": {
      "text/html": [
       "<style>\n",
       ".list-inline {list-style: none; margin:0; padding: 0}\n",
       ".list-inline>li {display: inline-block}\n",
       ".list-inline>li:not(:last-child)::after {content: \"\\00b7\"; padding: 0 .5ex}\n",
       "</style>\n",
       "<ol class=list-inline><li>'2'</li><li>'10'</li><li>'34'</li><li>'28'</li><li>'11'</li><li>'17'</li><li>'6'</li><li>'13'</li><li>'19'</li><li>'13'</li></ol>\n"
      ],
      "text/latex": [
       "\\begin{enumerate*}\n",
       "\\item '2'\n",
       "\\item '10'\n",
       "\\item '34'\n",
       "\\item '28'\n",
       "\\item '11'\n",
       "\\item '17'\n",
       "\\item '6'\n",
       "\\item '13'\n",
       "\\item '19'\n",
       "\\item '13'\n",
       "\\end{enumerate*}\n"
      ],
      "text/markdown": [
       "1. '2'\n",
       "2. '10'\n",
       "3. '34'\n",
       "4. '28'\n",
       "5. '11'\n",
       "6. '17'\n",
       "7. '6'\n",
       "8. '13'\n",
       "9. '19'\n",
       "10. '13'\n",
       "\n",
       "\n"
      ],
      "text/plain": [
       " [1] \"2\"  \"10\" \"34\" \"28\" \"11\" \"17\" \"6\"  \"13\" \"19\" \"13\""
      ]
     },
     "metadata": {},
     "output_type": "display_data"
    }
   ],
   "source": [
    "generator <- function(set, g) function(n) sample(set, n, replace = T, prob = c(g/37, rep(1/37, 36)))\n",
    "roulette_values <- c(\"ZERO\", 1:36)\n",
    "fair_roulette <- generator(roulette_values, g = 1)\n",
    "rigged_roulette <- generator(roulette_values, g = 2)\n",
    "\n",
    "fair_roulette(10)\n",
    "rigged_roulette(10)"
   ]
  },
  {
   "cell_type": "code",
   "execution_count": 276,
   "id": "249d8a19-e38b-4634-8834-4e78739b34c3",
   "metadata": {},
   "outputs": [
    {
     "data": {
      "text/html": [
       "<style>\n",
       ".list-inline {list-style: none; margin:0; padding: 0}\n",
       ".list-inline>li {display: inline-block}\n",
       ".list-inline>li:not(:last-child)::after {content: \"\\00b7\"; padding: 0 .5ex}\n",
       "</style>\n",
       "<ol class=list-inline><li>'Zero!'</li><li>'21'</li><li>'36'</li></ol>\n"
      ],
      "text/latex": [
       "\\begin{enumerate*}\n",
       "\\item 'Zero!'\n",
       "\\item '21'\n",
       "\\item '36'\n",
       "\\end{enumerate*}\n"
      ],
      "text/markdown": [
       "1. 'Zero!'\n",
       "2. '21'\n",
       "3. '36'\n",
       "\n",
       "\n"
      ],
      "text/plain": [
       "[1] \"Zero!\" \"21\"    \"36\"   "
      ]
     },
     "metadata": {},
     "output_type": "display_data"
    }
   ],
   "source": [
    "generator <- function(set, prob = rep(1/length(set), length(set))) { \n",
    "    function(n) sample(set, n, replace = T, prob)\n",
    "} \n",
    "\n",
    "roulette_values <- c(\"Zero!\", 1:36)\n",
    "fair_roulette <- generator(roulette_values)\n",
    "rigged_roulette <- generator(roulette_values)\n",
    "\n",
    "fair_roulette(3)"
   ]
  }
 ],
 "metadata": {
  "kernelspec": {
   "display_name": "R",
   "language": "R",
   "name": "r"
  },
  "language_info": {
   "codemirror_mode": "r",
   "file_extension": ".r",
   "mimetype": "text/x-r-source",
   "name": "R",
   "pygments_lexer": "r",
   "version": "4.2.2"
  }
 },
 "nbformat": 4,
 "nbformat_minor": 5
}
